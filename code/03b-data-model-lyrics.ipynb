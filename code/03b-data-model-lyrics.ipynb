{
 "cells": [
  {
   "cell_type": "markdown",
   "id": "6e2c0ff6",
   "metadata": {},
   "source": [
    "# Part 3B: Data Modeling with Lyrics (NLP)\n",
    "This part of the project focuses on building multi-classification models to predict music genre using song lyric data alone (Natural Language Processing). \n",
    "\n",
    "Each model is created with a pipeline to combine CountVectorizer or TFID in combination with a classifier model (e.g. Random Forest Classifier). \n",
    "\n",
    "Data relies on the cleaned lyrics created in the Data Pre-Processing stage (Part 2)."
   ]
  },
  {
   "cell_type": "code",
   "execution_count": 67,
   "id": "6c72e8d9",
   "metadata": {},
   "outputs": [],
   "source": [
    "import pandas as pd\n",
    "import itertools\n",
    "\n",
    "import seaborn as sns\n",
    "import matplotlib.pyplot as plt\n",
    "\n",
    "from sklearn import preprocessing\n",
    "from sklearn.model_selection import train_test_split, GridSearchCV\n",
    "from sklearn.pipeline import Pipeline\n",
    "\n",
    "#sci-kit learn classifiers\n",
    "from sklearn.neighbors import KNeighborsClassifier\n",
    "from sklearn.tree import DecisionTreeClassifier\n",
    "from sklearn.ensemble import RandomForestClassifier\n",
    "from sklearn import svm\n",
    "\n",
    "#text/NLP \n",
    "from sklearn.feature_extraction.text import CountVectorizer, TfidfVectorizer\n",
    "from sklearn.linear_model import LogisticRegressionCV, LogisticRegression\n",
    "\n",
    "from sklearn.metrics import (confusion_matrix, plot_confusion_matrix,\n",
    "    accuracy_score, plot_roc_curve, roc_auc_score, recall_score,\n",
    "    precision_score, roc_curve, auc)\n",
    "from sklearn.metrics import ConfusionMatrixDisplay\n",
    "\n",
    "\n",
    "#for oversampling \n",
    "from imblearn.over_sampling import RandomOverSampler"
   ]
  },
  {
   "cell_type": "code",
   "execution_count": 13,
   "id": "947150f1",
   "metadata": {},
   "outputs": [],
   "source": [
    "df = pd.read_csv('../data/data_lyrics.csv')"
   ]
  },
  {
   "cell_type": "code",
   "execution_count": 14,
   "id": "1faa10ce",
   "metadata": {},
   "outputs": [
    {
     "data": {
      "text/html": [
       "<div>\n",
       "<style scoped>\n",
       "    .dataframe tbody tr th:only-of-type {\n",
       "        vertical-align: middle;\n",
       "    }\n",
       "\n",
       "    .dataframe tbody tr th {\n",
       "        vertical-align: top;\n",
       "    }\n",
       "\n",
       "    .dataframe thead th {\n",
       "        text-align: right;\n",
       "    }\n",
       "</style>\n",
       "<table border=\"1\" class=\"dataframe\">\n",
       "  <thead>\n",
       "    <tr style=\"text-align: right;\">\n",
       "      <th></th>\n",
       "      <th>id</th>\n",
       "      <th>track</th>\n",
       "      <th>artist</th>\n",
       "      <th>lyrics</th>\n",
       "      <th>genre</th>\n",
       "      <th>cleaned_lyrics</th>\n",
       "      <th>title_length</th>\n",
       "      <th>lines</th>\n",
       "      <th>sections</th>\n",
       "      <th>verse_count</th>\n",
       "      <th>...</th>\n",
       "      <th>lyrics_contain_title</th>\n",
       "      <th>emot_positive</th>\n",
       "      <th>emot_negative</th>\n",
       "      <th>emot_anger</th>\n",
       "      <th>emot_trust</th>\n",
       "      <th>emot_disgust</th>\n",
       "      <th>emot_fear</th>\n",
       "      <th>emot_joy</th>\n",
       "      <th>emot_surprise</th>\n",
       "      <th>emot_anticp</th>\n",
       "    </tr>\n",
       "  </thead>\n",
       "  <tbody>\n",
       "    <tr>\n",
       "      <th>0</th>\n",
       "      <td>6qc34bnVOyqGDPni8H5W0U</td>\n",
       "      <td>Amazed</td>\n",
       "      <td>Lonestar</td>\n",
       "      <td>[Verse 1]\\nEvery time our eyes meet\\nThis feel...</td>\n",
       "      <td>country</td>\n",
       "      <td>Every time our eyes meet This feeling inside ...</td>\n",
       "      <td>6</td>\n",
       "      <td>55</td>\n",
       "      <td>6</td>\n",
       "      <td>2</td>\n",
       "      <td>...</td>\n",
       "      <td>True</td>\n",
       "      <td>0.263158</td>\n",
       "      <td>0.105263</td>\n",
       "      <td>0.052632</td>\n",
       "      <td>0.026316</td>\n",
       "      <td>0.052632</td>\n",
       "      <td>0.052632</td>\n",
       "      <td>0.157895</td>\n",
       "      <td>0.052632</td>\n",
       "      <td>0.0</td>\n",
       "    </tr>\n",
       "    <tr>\n",
       "      <th>1</th>\n",
       "      <td>3EUl8M6SzxZl03NPkB8mUd</td>\n",
       "      <td>Neon Moon</td>\n",
       "      <td>Brooks &amp; Dunn</td>\n",
       "      <td>[Verse 1]\\nWhen the sun goes down on my side o...</td>\n",
       "      <td>country</td>\n",
       "      <td>When the sun goes down on my side of town Tha...</td>\n",
       "      <td>9</td>\n",
       "      <td>62</td>\n",
       "      <td>9</td>\n",
       "      <td>5</td>\n",
       "      <td>...</td>\n",
       "      <td>True</td>\n",
       "      <td>0.070707</td>\n",
       "      <td>0.151515</td>\n",
       "      <td>0.131313</td>\n",
       "      <td>0.060606</td>\n",
       "      <td>0.060606</td>\n",
       "      <td>0.171717</td>\n",
       "      <td>0.070707</td>\n",
       "      <td>0.060606</td>\n",
       "      <td>0.0</td>\n",
       "    </tr>\n",
       "    <tr>\n",
       "      <th>2</th>\n",
       "      <td>7lUE02KHkZM44BZgjCaWRO</td>\n",
       "      <td>Meet In the Middle</td>\n",
       "      <td>Diamond Rio</td>\n",
       "      <td>[Verse 1]\\nIt was seven hundred fence posts fr...</td>\n",
       "      <td>country</td>\n",
       "      <td>It was seven hundred fence posts from your pl...</td>\n",
       "      <td>18</td>\n",
       "      <td>44</td>\n",
       "      <td>6</td>\n",
       "      <td>2</td>\n",
       "      <td>...</td>\n",
       "      <td>True</td>\n",
       "      <td>0.150000</td>\n",
       "      <td>0.100000</td>\n",
       "      <td>0.016667</td>\n",
       "      <td>0.100000</td>\n",
       "      <td>0.016667</td>\n",
       "      <td>0.000000</td>\n",
       "      <td>0.133333</td>\n",
       "      <td>0.016667</td>\n",
       "      <td>0.0</td>\n",
       "    </tr>\n",
       "  </tbody>\n",
       "</table>\n",
       "<p>3 rows × 26 columns</p>\n",
       "</div>"
      ],
      "text/plain": [
       "                       id               track         artist  \\\n",
       "0  6qc34bnVOyqGDPni8H5W0U              Amazed       Lonestar   \n",
       "1  3EUl8M6SzxZl03NPkB8mUd           Neon Moon  Brooks & Dunn   \n",
       "2  7lUE02KHkZM44BZgjCaWRO  Meet In the Middle    Diamond Rio   \n",
       "\n",
       "                                              lyrics    genre  \\\n",
       "0  [Verse 1]\\nEvery time our eyes meet\\nThis feel...  country   \n",
       "1  [Verse 1]\\nWhen the sun goes down on my side o...  country   \n",
       "2  [Verse 1]\\nIt was seven hundred fence posts fr...  country   \n",
       "\n",
       "                                      cleaned_lyrics  title_length  lines  \\\n",
       "0   Every time our eyes meet This feeling inside ...             6     55   \n",
       "1   When the sun goes down on my side of town Tha...             9     62   \n",
       "2   It was seven hundred fence posts from your pl...            18     44   \n",
       "\n",
       "   sections  verse_count  ...  lyrics_contain_title  emot_positive  \\\n",
       "0         6            2  ...                  True       0.263158   \n",
       "1         9            5  ...                  True       0.070707   \n",
       "2         6            2  ...                  True       0.150000   \n",
       "\n",
       "   emot_negative  emot_anger emot_trust emot_disgust  emot_fear  emot_joy  \\\n",
       "0       0.105263    0.052632   0.026316     0.052632   0.052632  0.157895   \n",
       "1       0.151515    0.131313   0.060606     0.060606   0.171717  0.070707   \n",
       "2       0.100000    0.016667   0.100000     0.016667   0.000000  0.133333   \n",
       "\n",
       "   emot_surprise  emot_anticp  \n",
       "0       0.052632          0.0  \n",
       "1       0.060606          0.0  \n",
       "2       0.016667          0.0  \n",
       "\n",
       "[3 rows x 26 columns]"
      ]
     },
     "execution_count": 14,
     "metadata": {},
     "output_type": "execute_result"
    }
   ],
   "source": [
    "df.head(3)"
   ]
  },
  {
   "cell_type": "code",
   "execution_count": 7,
   "id": "b9ed9483",
   "metadata": {},
   "outputs": [],
   "source": [
    "X = df['cleaned_lyrics']\n",
    "y = df['genre']"
   ]
  },
  {
   "cell_type": "code",
   "execution_count": 18,
   "id": "5b4e7a78",
   "metadata": {},
   "outputs": [],
   "source": [
    "X_train, X_test, y_train, y_test = train_test_split(X, y, test_size=0.20, random_state=42, stratify=y)"
   ]
  },
  {
   "cell_type": "code",
   "execution_count": 19,
   "id": "6e5aa5ff",
   "metadata": {},
   "outputs": [
    {
     "data": {
      "text/plain": [
       "rock         0.299270\n",
       "dance_pop    0.286496\n",
       "hip_hop      0.245985\n",
       "country      0.168248\n",
       "Name: genre, dtype: float64"
      ]
     },
     "execution_count": 19,
     "metadata": {},
     "output_type": "execute_result"
    }
   ],
   "source": [
    "y_train.value_counts(normalize=True)"
   ]
  },
  {
   "cell_type": "code",
   "execution_count": 83,
   "id": "41557244",
   "metadata": {},
   "outputs": [],
   "source": [
    "def get_metrics(model_name, model, X, y, over=False):\n",
    "    #create labels and empty df\n",
    "    labels = ['country','dance_pop','hip_hop','rock']\n",
    "    #set up model\n",
    "    X_train, X_test, y_train, y_test = train_test_split(X, y, test_size=0.20, random_state=42, stratify=y)\n",
    "    #if oversampling is False, fit on regular X_train, y_train splot\n",
    "    if over==False:\n",
    "        model.fit(X_train,y_train)\n",
    "        preds = model.predict(X_test)\n",
    "        train_score = model.score(X_train,y_train)\n",
    "    #if oversampling is True, use RandomOverSample to balance classes for training data\n",
    "    elif over==True:\n",
    "        oversample = RandomOverSampler(sampling_strategy='auto', random_state=42)\n",
    "        X_over, y_over = oversample.fit_resample(pd.DataFrame(X_train), y_train)\n",
    "        X_over = X_over.squeeze()\n",
    "        model.fit(X_over,y_over)\n",
    "        preds = model.predict(X_test)\n",
    "        train_score = model.score(X_over, y_over)\n",
    "    #store results\n",
    "    data = confusion_matrix(y_test, preds)\n",
    "    results = {labels[i] : data[i][i]/sum(data[i]) for i in range(0, len(data))}\n",
    "    result_df = pd.DataFrame(results, index=[0])\n",
    "    result_df['model'] = model_name\n",
    "    result_df['oversampling'] = over\n",
    "    result_df['train_accuracy'] = train_score\n",
    "    result_df['accuracy'] = model.score(X_test,y_test)\n",
    "    return result_df[['model','oversampling','train_accuracy','accuracy'] + labels]"
   ]
  },
  {
   "cell_type": "markdown",
   "id": "9b298d1e",
   "metadata": {},
   "source": [
    "## Random Forest Classifier"
   ]
  },
  {
   "cell_type": "code",
   "execution_count": 20,
   "id": "5f338315",
   "metadata": {},
   "outputs": [
    {
     "data": {
      "text/plain": [
       "(0.9978102189781022, 0.6496350364963503)"
      ]
     },
     "execution_count": 20,
     "metadata": {},
     "output_type": "execute_result"
    }
   ],
   "source": [
    "pipe_cv_rfc = Pipeline([\n",
    "    ('cv', CountVectorizer()),\n",
    "    ('rfc', RandomForestClassifier(random_state=42))\n",
    "])\n",
    "\n",
    "#fit\n",
    "pipe_cv_rfc.fit(X_train,y_train)\n",
    "pipe_cv_rfc.score(X_train, y_train), pipe_cv_rfc.score(X_test,y_test)"
   ]
  },
  {
   "cell_type": "code",
   "execution_count": 21,
   "id": "02ef393c",
   "metadata": {},
   "outputs": [
    {
     "data": {
      "image/png": "[encoded data removed]",
      "text/plain": [
       "<Figure size 432x288 with 2 Axes>"
      ]
     },
     "metadata": {
      "needs_background": "light"
     },
     "output_type": "display_data"
    }
   ],
   "source": [
    "ConfusionMatrixDisplay.from_estimator(pipe_cv_rfc, X_test, y_test, cmap=\"Blues\", normalize='true')\n",
    "plt.title(\"RFC with Count Vectorizer\");"
   ]
  },
  {
   "cell_type": "code",
   "execution_count": 22,
   "id": "be8ad77c",
   "metadata": {},
   "outputs": [
    {
     "data": {
      "text/plain": [
       "(0.9978102189781022, 0.6437956204379562)"
      ]
     },
     "execution_count": 22,
     "metadata": {},
     "output_type": "execute_result"
    }
   ],
   "source": [
    "pipe_tfv_rfc = Pipeline([\n",
    "    ('tfv',TfidfVectorizer()),\n",
    "    ('rfc', RandomForestClassifier())\n",
    "])\n",
    "\n",
    "#fit\n",
    "pipe_tfv_rfc.fit(X_train,y_train)\n",
    "pipe_tfv_rfc.score(X_train, y_train), pipe_tfv_rfc.score(X_test,y_test)"
   ]
  },
  {
   "cell_type": "code",
   "execution_count": 23,
   "id": "17d70d06",
   "metadata": {},
   "outputs": [
    {
     "data": {
      "image/png": "[encoded data removed]",
      "text/plain": [
       "<Figure size 432x288 with 2 Axes>"
      ]
     },
     "metadata": {
      "needs_background": "light"
     },
     "output_type": "display_data"
    }
   ],
   "source": [
    "ConfusionMatrixDisplay.from_estimator(pipe_tfv_rfc, X_test, y_test, cmap=\"Blues\", normalize='true')\n",
    "plt.title(\"RFC with TFID\");"
   ]
  },
  {
   "cell_type": "markdown",
   "id": "a73779ee",
   "metadata": {},
   "source": [
    "## SVM"
   ]
  },
  {
   "cell_type": "code",
   "execution_count": 163,
   "id": "a55fea4f",
   "metadata": {},
   "outputs": [
    {
     "data": {
      "text/plain": [
       "(0.9962160302717579, 0.6491228070175439)"
      ]
     },
     "execution_count": 163,
     "metadata": {},
     "output_type": "execute_result"
    }
   ],
   "source": [
    "pipe_cv_svm = Pipeline([\n",
    "    ('cv',CountVectorizer()),\n",
    "    ('svm', svm.SVC(C=1.0, kernel='linear', random_state=42))]\n",
    ")\n",
    "\n",
    "pipe_cv_svm.fit(X_train,y_train)\n",
    "pipe_cv_svm.score(X_train,y_train), pipe_cv_svm.score(X_test,y_test)"
   ]
  },
  {
   "cell_type": "code",
   "execution_count": 164,
   "id": "f3e12714",
   "metadata": {},
   "outputs": [
    {
     "data": {
      "image/png": "[encoded data removed]",
      "text/plain": [
       "<Figure size 432x288 with 2 Axes>"
      ]
     },
     "metadata": {
      "needs_background": "light"
     },
     "output_type": "display_data"
    }
   ],
   "source": [
    "ConfusionMatrixDisplay.from_estimator(pipe_cv_svm, X_test, y_test, cmap=\"Blues\", normalize='true')\n",
    "plt.title(\"SVM with CV\");"
   ]
  },
  {
   "cell_type": "code",
   "execution_count": 65,
   "id": "0a70573c",
   "metadata": {},
   "outputs": [
    {
     "data": {
      "text/plain": [
       "(0.8992700729927007, 0.6671532846715329)"
      ]
     },
     "execution_count": 65,
     "metadata": {},
     "output_type": "execute_result"
    }
   ],
   "source": [
    "pipe_tfv_svm = Pipeline([\n",
    "    ('cv',TfidfVectorizer()),\n",
    "    ('svm', svm.SVC(C=1.0, kernel='linear', random_state=42))]\n",
    ")\n",
    "\n",
    "pipe_tfv_svm.fit(X_train,y_train)\n",
    "pipe_tfv_svm.score(X_train,y_train), pipe_tfv_svm.score(X_test,y_test)"
   ]
  },
  {
   "cell_type": "markdown",
   "id": "4fafc736",
   "metadata": {},
   "source": [
    "## Decision Tree"
   ]
  },
  {
   "cell_type": "code",
   "execution_count": 24,
   "id": "59ac5ce8",
   "metadata": {},
   "outputs": [
    {
     "data": {
      "text/plain": [
       "(0.9978102189781022, 0.5489051094890511)"
      ]
     },
     "execution_count": 24,
     "metadata": {},
     "output_type": "execute_result"
    }
   ],
   "source": [
    "pipe_cv_dtc = Pipeline([\n",
    "    ('cv',CountVectorizer()),\n",
    "    ('dtc', DecisionTreeClassifier(random_state=42))]\n",
    ")\n",
    "\n",
    "pipe_cv_dtc.fit(X_train,y_train)\n",
    "pipe_cv_dtc.score(X_train,y_train), pipe_cv_dtc.score(X_test,y_test)"
   ]
  },
  {
   "cell_type": "code",
   "execution_count": 25,
   "id": "f6437557",
   "metadata": {},
   "outputs": [
    {
     "data": {
      "image/png": "[encoded data removed]",
      "text/plain": [
       "<Figure size 432x288 with 2 Axes>"
      ]
     },
     "metadata": {
      "needs_background": "light"
     },
     "output_type": "display_data"
    }
   ],
   "source": [
    "ConfusionMatrixDisplay.from_estimator(pipe_cv_dtc, X_test, y_test, cmap=\"Blues\", normalize='true')\n",
    "plt.title(\"Decision Tree with CV\");"
   ]
  },
  {
   "cell_type": "code",
   "execution_count": 26,
   "id": "4cb0b401",
   "metadata": {},
   "outputs": [
    {
     "data": {
      "text/plain": [
       "(0.9978102189781022, 0.5328467153284672)"
      ]
     },
     "execution_count": 26,
     "metadata": {},
     "output_type": "execute_result"
    }
   ],
   "source": [
    "pipe_tfid_dtc = Pipeline([\n",
    "    ('tfid', TfidfVectorizer()),\n",
    "    ('dtc', DecisionTreeClassifier(random_state=42))]\n",
    ")\n",
    "\n",
    "pipe_tfid_dtc.fit(X_train,y_train)\n",
    "pipe_tfid_dtc.score(X_train,y_train), pipe_tfid_dtc.score(X_test,y_test)"
   ]
  },
  {
   "cell_type": "code",
   "execution_count": 27,
   "id": "c6ce5a3b",
   "metadata": {},
   "outputs": [
    {
     "data": {
      "image/png": "[encoded data removed]",
      "text/plain": [
       "<Figure size 432x288 with 2 Axes>"
      ]
     },
     "metadata": {
      "needs_background": "light"
     },
     "output_type": "display_data"
    }
   ],
   "source": [
    "ConfusionMatrixDisplay.from_estimator(pipe_tfid_dtc, X_test, y_test, cmap=\"Blues\", normalize='true')\n",
    "plt.title(\"Decision Tree with TFID\");"
   ]
  },
  {
   "cell_type": "markdown",
   "id": "2dfa2be5",
   "metadata": {},
   "source": [
    "# Classifiers with Oversampling"
   ]
  },
  {
   "cell_type": "code",
   "execution_count": 28,
   "id": "681db8ca",
   "metadata": {},
   "outputs": [
    {
     "data": {
      "text/plain": [
       "rock         820\n",
       "dance_pop    785\n",
       "hip_hop      674\n",
       "country      461\n",
       "Name: genre, dtype: int64"
      ]
     },
     "execution_count": 28,
     "metadata": {},
     "output_type": "execute_result"
    }
   ],
   "source": [
    "X_train, X_test, y_train, y_test = train_test_split(X, y, test_size=0.20, random_state = 42, stratify=y)\n",
    "y_train.value_counts()"
   ]
  },
  {
   "cell_type": "code",
   "execution_count": 41,
   "id": "27efa8c0",
   "metadata": {},
   "outputs": [
    {
     "data": {
      "text/plain": [
       "rock         820\n",
       "country      820\n",
       "hip_hop      820\n",
       "dance_pop    820\n",
       "Name: genre, dtype: int64"
      ]
     },
     "execution_count": 41,
     "metadata": {},
     "output_type": "execute_result"
    }
   ],
   "source": [
    "oversample = RandomOverSampler(sampling_strategy='auto', random_state=42)\n",
    "X_over, y_over = oversample.fit_resample(pd.DataFrame(X_train), y_train)\n",
    "y_over.value_counts()"
   ]
  },
  {
   "cell_type": "code",
   "execution_count": 52,
   "id": "8f98110f",
   "metadata": {},
   "outputs": [
    {
     "data": {
      "text/plain": [
       "(0.9981707317073171, 0.6788321167883211)"
      ]
     },
     "execution_count": 52,
     "metadata": {},
     "output_type": "execute_result"
    }
   ],
   "source": [
    "pipe_cv_rfc_os = Pipeline([\n",
    "    ('cv', CountVectorizer()),\n",
    "    ('rfc', RandomForestClassifier(random_state=42))\n",
    "])\n",
    "\n",
    "#fit\n",
    "X_over = X_over.squeeze()\n",
    "pipe_cv_rfc_os.fit(X_over,y_over)\n",
    "pipe_cv_rfc_os.score(X_over, y_over), pipe_cv_rfc_os.score(X_test,y_test)"
   ]
  },
  {
   "cell_type": "code",
   "execution_count": 91,
   "id": "32f4e732",
   "metadata": {},
   "outputs": [
    {
     "data": {
      "image/png": "[encoded data removed]",
      "text/plain": [
       "<Figure size 432x288 with 2 Axes>"
      ]
     },
     "metadata": {
      "needs_background": "light"
     },
     "output_type": "display_data"
    }
   ],
   "source": [
    "ConfusionMatrixDisplay.from_estimator(pipe_cv_rfc_os, X_test, y_test, cmap=\"Blues\", normalize='true')\n",
    "plt.title(\"Random Forest with Count Vectorizer & Oversampling\");\n",
    "plt.savefig('../plots/Lyrics_RFC_CV_OS.jpeg')"
   ]
  },
  {
   "cell_type": "code",
   "execution_count": 87,
   "id": "fa38badc",
   "metadata": {},
   "outputs": [
    {
     "data": {
      "text/plain": [
       "(0.9179878048780488, 0.6686131386861314)"
      ]
     },
     "execution_count": 87,
     "metadata": {},
     "output_type": "execute_result"
    }
   ],
   "source": [
    "pipe_tfv_svm_os = Pipeline([\n",
    "    ('tfid', TfidfVectorizer()),\n",
    "    ('svm', svm.SVC(C=1.0, kernel='linear', random_state=42))]\n",
    ")\n",
    "\n",
    "pipe_tfv_svm_os.fit(X_over,y_over)\n",
    "pipe_tfv_svm_os.score(X_over,y_over), pipe_tfv_svm_os.score(X_test,y_test)"
   ]
  },
  {
   "cell_type": "code",
   "execution_count": 90,
   "id": "53d51555",
   "metadata": {},
   "outputs": [
    {
     "data": {
      "image/png": "[encoded data removed]",
      "text/plain": [
       "<Figure size 432x288 with 2 Axes>"
      ]
     },
     "metadata": {
      "needs_background": "light"
     },
     "output_type": "display_data"
    }
   ],
   "source": [
    "ConfusionMatrixDisplay.from_estimator(pipe_tfv_svm_os, X_test, y_test, cmap=\"Blues\", normalize='true')\n",
    "plt.title(\"SVM with TFID & Oversampling\");\n",
    "plt.savefig('../plots/Lyrics_SVM_TFID_OS.jpeg')"
   ]
  },
  {
   "cell_type": "code",
   "execution_count": 76,
   "id": "2b026ec8",
   "metadata": {},
   "outputs": [
    {
     "data": {
      "text/html": [
       "<div>\n",
       "<style scoped>\n",
       "    .dataframe tbody tr th:only-of-type {\n",
       "        vertical-align: middle;\n",
       "    }\n",
       "\n",
       "    .dataframe tbody tr th {\n",
       "        vertical-align: top;\n",
       "    }\n",
       "\n",
       "    .dataframe thead th {\n",
       "        text-align: right;\n",
       "    }\n",
       "</style>\n",
       "<table border=\"1\" class=\"dataframe\">\n",
       "  <thead>\n",
       "    <tr style=\"text-align: right;\">\n",
       "      <th></th>\n",
       "      <th>model</th>\n",
       "      <th>train_accuracy</th>\n",
       "      <th>accuracy</th>\n",
       "      <th>country</th>\n",
       "      <th>dance_pop</th>\n",
       "      <th>hip_hop</th>\n",
       "      <th>rock</th>\n",
       "    </tr>\n",
       "  </thead>\n",
       "  <tbody>\n",
       "    <tr>\n",
       "      <th>0</th>\n",
       "      <td>Random Forest with CountVect &amp; Oversampling</td>\n",
       "      <td>0.998171</td>\n",
       "      <td>0.678832</td>\n",
       "      <td>0.234783</td>\n",
       "      <td>0.664975</td>\n",
       "      <td>0.797619</td>\n",
       "      <td>0.843902</td>\n",
       "    </tr>\n",
       "  </tbody>\n",
       "</table>\n",
       "</div>"
      ],
      "text/plain": [
       "                                         model  train_accuracy  accuracy  \\\n",
       "0  Random Forest with CountVect & Oversampling        0.998171  0.678832   \n",
       "\n",
       "    country  dance_pop   hip_hop      rock  \n",
       "0  0.234783   0.664975  0.797619  0.843902  "
      ]
     },
     "execution_count": 76,
     "metadata": {},
     "output_type": "execute_result"
    }
   ],
   "source": [
    "get_metrics(\"Random Forest with CountVect & Oversampling\", pipe_cv_rfc, X, y, True)"
   ]
  },
  {
   "cell_type": "code",
   "execution_count": 84,
   "id": "25b9d589",
   "metadata": {},
   "outputs": [
    {
     "data": {
      "text/html": [
       "<div>\n",
       "<style scoped>\n",
       "    .dataframe tbody tr th:only-of-type {\n",
       "        vertical-align: middle;\n",
       "    }\n",
       "\n",
       "    .dataframe tbody tr th {\n",
       "        vertical-align: top;\n",
       "    }\n",
       "\n",
       "    .dataframe thead th {\n",
       "        text-align: right;\n",
       "    }\n",
       "</style>\n",
       "<table border=\"1\" class=\"dataframe\">\n",
       "  <thead>\n",
       "    <tr style=\"text-align: right;\">\n",
       "      <th></th>\n",
       "      <th>model</th>\n",
       "      <th>oversampling</th>\n",
       "      <th>train_accuracy</th>\n",
       "      <th>accuracy</th>\n",
       "      <th>country</th>\n",
       "      <th>dance_pop</th>\n",
       "      <th>hip_hop</th>\n",
       "      <th>rock</th>\n",
       "    </tr>\n",
       "  </thead>\n",
       "  <tbody>\n",
       "    <tr>\n",
       "      <th>0</th>\n",
       "      <td>Random Forest with CountVectorizer</td>\n",
       "      <td>False</td>\n",
       "      <td>0.997810</td>\n",
       "      <td>0.649635</td>\n",
       "      <td>0.086957</td>\n",
       "      <td>0.654822</td>\n",
       "      <td>0.797619</td>\n",
       "      <td>0.839024</td>\n",
       "    </tr>\n",
       "    <tr>\n",
       "      <th>0</th>\n",
       "      <td>Random Forest with CountVectorizer</td>\n",
       "      <td>True</td>\n",
       "      <td>0.998171</td>\n",
       "      <td>0.678832</td>\n",
       "      <td>0.234783</td>\n",
       "      <td>0.664975</td>\n",
       "      <td>0.797619</td>\n",
       "      <td>0.843902</td>\n",
       "    </tr>\n",
       "    <tr>\n",
       "      <th>0</th>\n",
       "      <td>Random Forest with TFID</td>\n",
       "      <td>False</td>\n",
       "      <td>0.997810</td>\n",
       "      <td>0.645255</td>\n",
       "      <td>0.130435</td>\n",
       "      <td>0.624365</td>\n",
       "      <td>0.797619</td>\n",
       "      <td>0.829268</td>\n",
       "    </tr>\n",
       "    <tr>\n",
       "      <th>0</th>\n",
       "      <td>Random Forest with TFID</td>\n",
       "      <td>True</td>\n",
       "      <td>0.998171</td>\n",
       "      <td>0.651095</td>\n",
       "      <td>0.278261</td>\n",
       "      <td>0.614213</td>\n",
       "      <td>0.803571</td>\n",
       "      <td>0.770732</td>\n",
       "    </tr>\n",
       "    <tr>\n",
       "      <th>0</th>\n",
       "      <td>Decision Tree with CountVectorizer</td>\n",
       "      <td>False</td>\n",
       "      <td>0.997810</td>\n",
       "      <td>0.548905</td>\n",
       "      <td>0.321739</td>\n",
       "      <td>0.512690</td>\n",
       "      <td>0.738095</td>\n",
       "      <td>0.556098</td>\n",
       "    </tr>\n",
       "    <tr>\n",
       "      <th>0</th>\n",
       "      <td>SVM with CountVectorizer</td>\n",
       "      <td>False</td>\n",
       "      <td>0.997810</td>\n",
       "      <td>0.627737</td>\n",
       "      <td>0.539130</td>\n",
       "      <td>0.578680</td>\n",
       "      <td>0.702381</td>\n",
       "      <td>0.663415</td>\n",
       "    </tr>\n",
       "    <tr>\n",
       "      <th>0</th>\n",
       "      <td>SVM with CountVectorizer</td>\n",
       "      <td>True</td>\n",
       "      <td>0.998171</td>\n",
       "      <td>0.627737</td>\n",
       "      <td>0.539130</td>\n",
       "      <td>0.578680</td>\n",
       "      <td>0.702381</td>\n",
       "      <td>0.663415</td>\n",
       "    </tr>\n",
       "    <tr>\n",
       "      <th>0</th>\n",
       "      <td>SVM with TFID</td>\n",
       "      <td>False</td>\n",
       "      <td>0.899270</td>\n",
       "      <td>0.667153</td>\n",
       "      <td>0.521739</td>\n",
       "      <td>0.700508</td>\n",
       "      <td>0.702381</td>\n",
       "      <td>0.687805</td>\n",
       "    </tr>\n",
       "    <tr>\n",
       "      <th>0</th>\n",
       "      <td>SVM with TFID</td>\n",
       "      <td>True</td>\n",
       "      <td>0.917988</td>\n",
       "      <td>0.668613</td>\n",
       "      <td>0.626087</td>\n",
       "      <td>0.705584</td>\n",
       "      <td>0.714286</td>\n",
       "      <td>0.619512</td>\n",
       "    </tr>\n",
       "  </tbody>\n",
       "</table>\n",
       "</div>"
      ],
      "text/plain": [
       "                                model  oversampling  train_accuracy  accuracy  \\\n",
       "0  Random Forest with CountVectorizer         False        0.997810  0.649635   \n",
       "0  Random Forest with CountVectorizer          True        0.998171  0.678832   \n",
       "0             Random Forest with TFID         False        0.997810  0.645255   \n",
       "0             Random Forest with TFID          True        0.998171  0.651095   \n",
       "0  Decision Tree with CountVectorizer         False        0.997810  0.548905   \n",
       "0            SVM with CountVectorizer         False        0.997810  0.627737   \n",
       "0            SVM with CountVectorizer          True        0.998171  0.627737   \n",
       "0                       SVM with TFID         False        0.899270  0.667153   \n",
       "0                       SVM with TFID          True        0.917988  0.668613   \n",
       "\n",
       "    country  dance_pop   hip_hop      rock  \n",
       "0  0.086957   0.654822  0.797619  0.839024  \n",
       "0  0.234783   0.664975  0.797619  0.843902  \n",
       "0  0.130435   0.624365  0.797619  0.829268  \n",
       "0  0.278261   0.614213  0.803571  0.770732  \n",
       "0  0.321739   0.512690  0.738095  0.556098  \n",
       "0  0.539130   0.578680  0.702381  0.663415  \n",
       "0  0.539130   0.578680  0.702381  0.663415  \n",
       "0  0.521739   0.700508  0.702381  0.687805  \n",
       "0  0.626087   0.705584  0.714286  0.619512  "
      ]
     },
     "execution_count": 84,
     "metadata": {},
     "output_type": "execute_result"
    }
   ],
   "source": [
    "results = pd.concat([get_metrics(\"Random Forest with CountVectorizer\", pipe_cv_rfc, X, y),\n",
    "           get_metrics(\"Random Forest with CountVectorizer\", pipe_cv_rfc, X, y, True),\n",
    "           get_metrics(\"Random Forest with TFID\", pipe_tfv_rfc, X, y),\n",
    "           get_metrics(\"Random Forest with TFID\", pipe_tfv_rfc, X, y, True),\n",
    "           get_metrics(\"Decision Tree with CountVectorizer\", pipe_cv_dtc, X, y),\n",
    "           get_metrics(\"SVM with CountVectorizer\", pipe_cv_svm, X, y),\n",
    "           get_metrics(\"SVM with CountVectorizer\", pipe_cv_svm, X, y, True),\n",
    "           get_metrics(\"SVM with TFID\", pipe_tfv_svm, X, y),\n",
    "           get_metrics(\"SVM with TFID\", pipe_tfv_svm, X, y, True)\n",
    "          ]\n",
    "         )\n",
    "results"
   ]
  },
  {
   "cell_type": "code",
   "execution_count": 85,
   "id": "a5654ac9",
   "metadata": {},
   "outputs": [],
   "source": [
    "results.to_csv('../data/model_results_lyrics.csv')"
   ]
  },
  {
   "cell_type": "code",
   "execution_count": null,
   "id": "2f47d24d",
   "metadata": {},
   "outputs": [],
   "source": []
  }
 ],
 "metadata": {
  "kernelspec": {
   "display_name": "Python 3 (ipykernel)",
   "language": "python",
   "name": "python3"
  },
  "language_info": {
   "codemirror_mode": {
    "name": "ipython",
    "version": 3
   },
   "file_extension": ".py",
   "mimetype": "text/x-python",
   "name": "python",
   "nbconvert_exporter": "python",
   "pygments_lexer": "ipython3",
   "version": "3.8.12"
  }
 },
 "nbformat": 4,
 "nbformat_minor": 5
}
