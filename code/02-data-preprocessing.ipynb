{
 "cells": [
  {
   "cell_type": "markdown",
   "id": "fff6908e",
   "metadata": {},
   "source": [
    "# Part 2: Data Pre-Processing"
   ]
  },
  {
   "cell_type": "markdown",
   "id": "81e779e1",
   "metadata": {},
   "source": [
    "Import Libraries and lyric data collected from Part 1B."
   ]
  },
  {
   "cell_type": "code",
   "execution_count": 2,
   "id": "cc9e3edd",
   "metadata": {},
   "outputs": [],
   "source": [
    "import pandas as pd\n",
    "import re\n",
    "from afinn import Afinn\n",
    "from nrclex import NRCLex"
   ]
  },
  {
   "cell_type": "markdown",
   "id": "e0fe0609",
   "metadata": {},
   "source": [
    "Import audio feature data from Spotify scraping (Part 1A) and lyric data from Lyric Genius (Part 1B). "
   ]
  },
  {
   "cell_type": "code",
   "execution_count": 5,
   "id": "4ac43ae0",
   "metadata": {},
   "outputs": [
    {
     "data": {
      "text/plain": [
       "((3831, 26), (3652, 4))"
      ]
     },
     "execution_count": 5,
     "metadata": {},
     "output_type": "execute_result"
    }
   ],
   "source": [
    "lyrics = pd.read_csv('../data/lyrics.csv')\n",
    "lyrics.drop_duplicates(subset=['id'],inplace=True)\n",
    "audio = pd.read_csv('../data/audio_features.csv')\n",
    "audio.drop_duplicates(subset=['id'],inplace=True)\n",
    "\n",
    "audio.shape, lyrics.shape"
   ]
  },
  {
   "cell_type": "code",
   "execution_count": 6,
   "id": "e2cc723f",
   "metadata": {},
   "outputs": [],
   "source": [
    "df = lyrics.merge(audio[['id','genre']], on='id')"
   ]
  },
  {
   "cell_type": "code",
   "execution_count": 7,
   "id": "31e93c68",
   "metadata": {},
   "outputs": [
    {
     "data": {
      "text/plain": [
       "rock         1094\n",
       "dance_pop    1037\n",
       "hip_hop       935\n",
       "country       586\n",
       "Name: genre, dtype: int64"
      ]
     },
     "execution_count": 7,
     "metadata": {},
     "output_type": "execute_result"
    }
   ],
   "source": [
    "df.genre.value_counts()"
   ]
  },
  {
   "cell_type": "markdown",
   "id": "f6e92e8c",
   "metadata": {},
   "source": [
    "## New Features\n",
    "- Create features for word counts\n",
    "- Create features based on lexicons"
   ]
  },
  {
   "cell_type": "code",
   "execution_count": 9,
   "id": "67b50e0e",
   "metadata": {},
   "outputs": [
    {
     "data": {
      "text/html": [
       "<div>\n",
       "<style scoped>\n",
       "    .dataframe tbody tr th:only-of-type {\n",
       "        vertical-align: middle;\n",
       "    }\n",
       "\n",
       "    .dataframe tbody tr th {\n",
       "        vertical-align: top;\n",
       "    }\n",
       "\n",
       "    .dataframe thead th {\n",
       "        text-align: right;\n",
       "    }\n",
       "</style>\n",
       "<table border=\"1\" class=\"dataframe\">\n",
       "  <thead>\n",
       "    <tr style=\"text-align: right;\">\n",
       "      <th></th>\n",
       "      <th>id</th>\n",
       "      <th>track</th>\n",
       "      <th>artist</th>\n",
       "      <th>lyrics</th>\n",
       "      <th>genre</th>\n",
       "      <th>cleaned_lyrics</th>\n",
       "      <th>title_length</th>\n",
       "      <th>lines</th>\n",
       "      <th>sections</th>\n",
       "      <th>verse_count</th>\n",
       "      <th>chorus_count</th>\n",
       "      <th>dash_count</th>\n",
       "      <th>words</th>\n",
       "      <th>unique_words</th>\n",
       "    </tr>\n",
       "  </thead>\n",
       "  <tbody>\n",
       "    <tr>\n",
       "      <th>0</th>\n",
       "      <td>6qc34bnVOyqGDPni8H5W0U</td>\n",
       "      <td>Amazed</td>\n",
       "      <td>Lonestar</td>\n",
       "      <td>[Verse 1]\\nEvery time our eyes meet\\nThis feel...</td>\n",
       "      <td>country</td>\n",
       "      <td>Every time our eyes meet This feeling inside ...</td>\n",
       "      <td>6</td>\n",
       "      <td>55</td>\n",
       "      <td>6</td>\n",
       "      <td>2</td>\n",
       "      <td>3</td>\n",
       "      <td>0</td>\n",
       "      <td>258</td>\n",
       "      <td>99</td>\n",
       "    </tr>\n",
       "    <tr>\n",
       "      <th>1</th>\n",
       "      <td>3EUl8M6SzxZl03NPkB8mUd</td>\n",
       "      <td>Neon Moon</td>\n",
       "      <td>Brooks &amp; Dunn</td>\n",
       "      <td>[Verse 1]\\nWhen the sun goes down on my side o...</td>\n",
       "      <td>country</td>\n",
       "      <td>When the sun goes down on my side of town Tha...</td>\n",
       "      <td>9</td>\n",
       "      <td>62</td>\n",
       "      <td>9</td>\n",
       "      <td>5</td>\n",
       "      <td>3</td>\n",
       "      <td>0</td>\n",
       "      <td>295</td>\n",
       "      <td>133</td>\n",
       "    </tr>\n",
       "    <tr>\n",
       "      <th>2</th>\n",
       "      <td>7lUE02KHkZM44BZgjCaWRO</td>\n",
       "      <td>Meet In the Middle</td>\n",
       "      <td>Diamond Rio</td>\n",
       "      <td>[Verse 1]\\nIt was seven hundred fence posts fr...</td>\n",
       "      <td>country</td>\n",
       "      <td>It was seven hundred fence posts from your pl...</td>\n",
       "      <td>18</td>\n",
       "      <td>44</td>\n",
       "      <td>6</td>\n",
       "      <td>2</td>\n",
       "      <td>5</td>\n",
       "      <td>0</td>\n",
       "      <td>311</td>\n",
       "      <td>103</td>\n",
       "    </tr>\n",
       "  </tbody>\n",
       "</table>\n",
       "</div>"
      ],
      "text/plain": [
       "                       id               track         artist  \\\n",
       "0  6qc34bnVOyqGDPni8H5W0U              Amazed       Lonestar   \n",
       "1  3EUl8M6SzxZl03NPkB8mUd           Neon Moon  Brooks & Dunn   \n",
       "2  7lUE02KHkZM44BZgjCaWRO  Meet In the Middle    Diamond Rio   \n",
       "\n",
       "                                              lyrics    genre  \\\n",
       "0  [Verse 1]\\nEvery time our eyes meet\\nThis feel...  country   \n",
       "1  [Verse 1]\\nWhen the sun goes down on my side o...  country   \n",
       "2  [Verse 1]\\nIt was seven hundred fence posts fr...  country   \n",
       "\n",
       "                                      cleaned_lyrics  title_length  lines  \\\n",
       "0   Every time our eyes meet This feeling inside ...             6     55   \n",
       "1   When the sun goes down on my side of town Tha...             9     62   \n",
       "2   It was seven hundred fence posts from your pl...            18     44   \n",
       "\n",
       "   sections  verse_count  chorus_count  dash_count  words  unique_words  \n",
       "0         6            2             3           0    258            99  \n",
       "1         9            5             3           0    295           133  \n",
       "2         6            2             5           0    311           103  "
      ]
     },
     "execution_count": 9,
     "metadata": {},
     "output_type": "execute_result"
    }
   ],
   "source": [
    "df['lyrics'] = [re.sub(r'^.*?Lyrics', '', str(lyric)) for lyric in df['lyrics']]\n",
    "df['cleaned_lyrics'] = [str(lyric).replace('\\n',' ') for lyric in df['lyrics']]\n",
    "df['cleaned_lyrics'] = [re.sub(\"\\[.*?\\]\",\"\",lyric) for lyric in df['cleaned_lyrics']]\n",
    "\n",
    "df['title_length'] = [len(title) for title in df['track']]\n",
    "df['lines'] = [str(lyric).count('\\n') for lyric in df['lyrics']]\n",
    "df['sections'] = [str(lyric).count('\\n\\n') for lyric in df['lyrics']]\n",
    "df['verse_count'] = [str(lyric).count('[Verse') for lyric in df['lyrics']]\n",
    "df['chorus_count'] = [str(lyric).count('[Chorus') for lyric in df['lyrics']]\n",
    "df['dash_count'] = [str(lyric).count('\" -') for lyric in df['lyrics']]\n",
    "df['words'] = [len(str(lyric).split()) for lyric in df['cleaned_lyrics']]\n",
    "df['unique_words'] = [len(set(str(lyric).split())) for lyric in df['cleaned_lyrics']]\n",
    "\n",
    "df.head(3)"
   ]
  },
  {
   "cell_type": "code",
   "execution_count": 196,
   "id": "133a3aa9",
   "metadata": {},
   "outputs": [],
   "source": [
    "df = df[df.dash_count<3]"
   ]
  },
  {
   "cell_type": "code",
   "execution_count": 35,
   "id": "a83d31dd",
   "metadata": {},
   "outputs": [],
   "source": [
    "df['emot_positive'] = [NRCLex(lyric).affect_frequencies.get('positive') for lyric in df['cleaned_lyrics']]\n",
    "df['emot_negative'] = [NRCLex(lyric).affect_frequencies.get('negative') for lyric in df['cleaned_lyrics']]\n",
    "df['emot_anger'] = [NRCLex(lyric).affect_frequencies.get('anger') for lyric in df['cleaned_lyrics']]\n",
    "df['emot_trust'] = [NRCLex(lyric).affect_frequencies.get('trust') for lyric in df['cleaned_lyrics']]\n",
    "df['emot_disgust'] = [NRCLex(lyric).affect_frequencies.get('disgust') for lyric in df['cleaned_lyrics']]\n",
    "df['emot_fear'] = [NRCLex(lyric).affect_frequencies.get('fear') for lyric in df['cleaned_lyrics']]\n",
    "df['emot_joy'] = [NRCLex(lyric).affect_frequencies.get('joy') for lyric in df['cleaned_lyrics']]\n",
    "df['emot_surprise'] = [NRCLex(lyric).affect_frequencies.get('surprise') for lyric in df['cleaned_lyrics']]\n",
    "df['emot_anticp'] = [NRCLex(lyric).affect_frequencies.get('anticip') for lyric in df['cleaned_lyrics']]"
   ]
  },
  {
   "cell_type": "code",
   "execution_count": 46,
   "id": "f5df551a",
   "metadata": {},
   "outputs": [
    {
     "data": {
      "text/html": [
       "<div>\n",
       "<style scoped>\n",
       "    .dataframe tbody tr th:only-of-type {\n",
       "        vertical-align: middle;\n",
       "    }\n",
       "\n",
       "    .dataframe tbody tr th {\n",
       "        vertical-align: top;\n",
       "    }\n",
       "\n",
       "    .dataframe thead th {\n",
       "        text-align: right;\n",
       "    }\n",
       "</style>\n",
       "<table border=\"1\" class=\"dataframe\">\n",
       "  <thead>\n",
       "    <tr style=\"text-align: right;\">\n",
       "      <th></th>\n",
       "      <th>id</th>\n",
       "      <th>track</th>\n",
       "      <th>artist</th>\n",
       "      <th>lyrics</th>\n",
       "      <th>genre</th>\n",
       "      <th>cleaned_lyrics</th>\n",
       "      <th>title_length</th>\n",
       "      <th>lines</th>\n",
       "      <th>sections</th>\n",
       "      <th>verse_count</th>\n",
       "      <th>...</th>\n",
       "      <th>unique_words</th>\n",
       "      <th>emot_positive</th>\n",
       "      <th>emot_negative</th>\n",
       "      <th>emot_anger</th>\n",
       "      <th>emot_trust</th>\n",
       "      <th>emot_disgust</th>\n",
       "      <th>emot_fear</th>\n",
       "      <th>emot_joy</th>\n",
       "      <th>emot_surprise</th>\n",
       "      <th>emot_anticp</th>\n",
       "    </tr>\n",
       "  </thead>\n",
       "  <tbody>\n",
       "    <tr>\n",
       "      <th>0</th>\n",
       "      <td>6qc34bnVOyqGDPni8H5W0U</td>\n",
       "      <td>Amazed</td>\n",
       "      <td>Lonestar</td>\n",
       "      <td>[Verse 1]\\nEvery time our eyes meet\\nThis feel...</td>\n",
       "      <td>country</td>\n",
       "      <td>Every time our eyes meetThis feeling inside me...</td>\n",
       "      <td>6</td>\n",
       "      <td>55</td>\n",
       "      <td>6</td>\n",
       "      <td>2</td>\n",
       "      <td>...</td>\n",
       "      <td>99</td>\n",
       "      <td>0.281250</td>\n",
       "      <td>0.125000</td>\n",
       "      <td>0.062500</td>\n",
       "      <td>0.031250</td>\n",
       "      <td>0.062500</td>\n",
       "      <td>0.062500</td>\n",
       "      <td>0.156250</td>\n",
       "      <td>0.031250</td>\n",
       "      <td>0.0</td>\n",
       "    </tr>\n",
       "    <tr>\n",
       "      <th>1</th>\n",
       "      <td>3EUl8M6SzxZl03NPkB8mUd</td>\n",
       "      <td>Neon Moon</td>\n",
       "      <td>Brooks &amp; Dunn</td>\n",
       "      <td>[Verse 1]\\nWhen the sun goes down on my side o...</td>\n",
       "      <td>country</td>\n",
       "      <td>When the sun goes down on my side of townThat ...</td>\n",
       "      <td>9</td>\n",
       "      <td>62</td>\n",
       "      <td>9</td>\n",
       "      <td>5</td>\n",
       "      <td>...</td>\n",
       "      <td>124</td>\n",
       "      <td>0.041667</td>\n",
       "      <td>0.166667</td>\n",
       "      <td>0.138889</td>\n",
       "      <td>0.027778</td>\n",
       "      <td>0.041667</td>\n",
       "      <td>0.194444</td>\n",
       "      <td>0.041667</td>\n",
       "      <td>0.083333</td>\n",
       "      <td>0.0</td>\n",
       "    </tr>\n",
       "    <tr>\n",
       "      <th>2</th>\n",
       "      <td>7lUE02KHkZM44BZgjCaWRO</td>\n",
       "      <td>Meet In the Middle</td>\n",
       "      <td>Diamond Rio</td>\n",
       "      <td>[Verse 1]\\nIt was seven hundred fence posts fr...</td>\n",
       "      <td>country</td>\n",
       "      <td>It was seven hundred fence posts from your pla...</td>\n",
       "      <td>18</td>\n",
       "      <td>44</td>\n",
       "      <td>6</td>\n",
       "      <td>2</td>\n",
       "      <td>...</td>\n",
       "      <td>97</td>\n",
       "      <td>0.163265</td>\n",
       "      <td>0.020408</td>\n",
       "      <td>0.020408</td>\n",
       "      <td>0.122449</td>\n",
       "      <td>0.020408</td>\n",
       "      <td>0.000000</td>\n",
       "      <td>0.163265</td>\n",
       "      <td>0.020408</td>\n",
       "      <td>0.0</td>\n",
       "    </tr>\n",
       "    <tr>\n",
       "      <th>3</th>\n",
       "      <td>2ulBBx6YQ3qY3ci34RadtN</td>\n",
       "      <td>She's In Love With The Boy - Single Version</td>\n",
       "      <td>Trisha Yearwood</td>\n",
       "      <td>Kelsea Ballerini - Dibs\\nDolly Parton - Jolene...</td>\n",
       "      <td>country</td>\n",
       "      <td>Kelsea Ballerini - DibsDolly Parton - JoleneCl...</td>\n",
       "      <td>43</td>\n",
       "      <td>56</td>\n",
       "      <td>0</td>\n",
       "      <td>0</td>\n",
       "      <td>...</td>\n",
       "      <td>166</td>\n",
       "      <td>0.250000</td>\n",
       "      <td>0.000000</td>\n",
       "      <td>0.000000</td>\n",
       "      <td>0.000000</td>\n",
       "      <td>0.000000</td>\n",
       "      <td>0.000000</td>\n",
       "      <td>0.250000</td>\n",
       "      <td>0.250000</td>\n",
       "      <td>0.0</td>\n",
       "    </tr>\n",
       "    <tr>\n",
       "      <th>4</th>\n",
       "      <td>0158TMiGmHyibaDeaUKayX</td>\n",
       "      <td>She Won't Be Lonely Long</td>\n",
       "      <td>Clay Walker</td>\n",
       "      <td>[Verse 1]\\nSomething 'bout the way she’s weari...</td>\n",
       "      <td>country</td>\n",
       "      <td>Something 'bout the way she’s wearing her dres...</td>\n",
       "      <td>24</td>\n",
       "      <td>36</td>\n",
       "      <td>4</td>\n",
       "      <td>2</td>\n",
       "      <td>...</td>\n",
       "      <td>89</td>\n",
       "      <td>0.000000</td>\n",
       "      <td>0.236559</td>\n",
       "      <td>0.161290</td>\n",
       "      <td>0.000000</td>\n",
       "      <td>0.193548</td>\n",
       "      <td>0.172043</td>\n",
       "      <td>0.000000</td>\n",
       "      <td>0.000000</td>\n",
       "      <td>0.0</td>\n",
       "    </tr>\n",
       "  </tbody>\n",
       "</table>\n",
       "<p>5 rows × 22 columns</p>\n",
       "</div>"
      ],
      "text/plain": [
       "                       id                                        track  \\\n",
       "0  6qc34bnVOyqGDPni8H5W0U                                       Amazed   \n",
       "1  3EUl8M6SzxZl03NPkB8mUd                                    Neon Moon   \n",
       "2  7lUE02KHkZM44BZgjCaWRO                           Meet In the Middle   \n",
       "3  2ulBBx6YQ3qY3ci34RadtN  She's In Love With The Boy - Single Version   \n",
       "4  0158TMiGmHyibaDeaUKayX                     She Won't Be Lonely Long   \n",
       "\n",
       "            artist                                             lyrics  \\\n",
       "0         Lonestar  [Verse 1]\\nEvery time our eyes meet\\nThis feel...   \n",
       "1    Brooks & Dunn  [Verse 1]\\nWhen the sun goes down on my side o...   \n",
       "2      Diamond Rio  [Verse 1]\\nIt was seven hundred fence posts fr...   \n",
       "3  Trisha Yearwood  Kelsea Ballerini - Dibs\\nDolly Parton - Jolene...   \n",
       "4      Clay Walker  [Verse 1]\\nSomething 'bout the way she’s weari...   \n",
       "\n",
       "     genre                                     cleaned_lyrics  title_length  \\\n",
       "0  country  Every time our eyes meetThis feeling inside me...             6   \n",
       "1  country  When the sun goes down on my side of townThat ...             9   \n",
       "2  country  It was seven hundred fence posts from your pla...            18   \n",
       "3  country  Kelsea Ballerini - DibsDolly Parton - JoleneCl...            43   \n",
       "4  country  Something 'bout the way she’s wearing her dres...            24   \n",
       "\n",
       "   lines  sections  verse_count  ...  unique_words  emot_positive  \\\n",
       "0     55         6            2  ...            99       0.281250   \n",
       "1     62         9            5  ...           124       0.041667   \n",
       "2     44         6            2  ...            97       0.163265   \n",
       "3     56         0            0  ...           166       0.250000   \n",
       "4     36         4            2  ...            89       0.000000   \n",
       "\n",
       "   emot_negative  emot_anger  emot_trust  emot_disgust  emot_fear  emot_joy  \\\n",
       "0       0.125000    0.062500    0.031250      0.062500   0.062500  0.156250   \n",
       "1       0.166667    0.138889    0.027778      0.041667   0.194444  0.041667   \n",
       "2       0.020408    0.020408    0.122449      0.020408   0.000000  0.163265   \n",
       "3       0.000000    0.000000    0.000000      0.000000   0.000000  0.250000   \n",
       "4       0.236559    0.161290    0.000000      0.193548   0.172043  0.000000   \n",
       "\n",
       "   emot_surprise  emot_anticp  \n",
       "0       0.031250          0.0  \n",
       "1       0.083333          0.0  \n",
       "2       0.020408          0.0  \n",
       "3       0.250000          0.0  \n",
       "4       0.000000          0.0  \n",
       "\n",
       "[5 rows x 22 columns]"
      ]
     },
     "execution_count": 46,
     "metadata": {},
     "output_type": "execute_result"
    }
   ],
   "source": [
    "df.head(5)"
   ]
  },
  {
   "cell_type": "code",
   "execution_count": 10,
   "id": "cec4bc07",
   "metadata": {},
   "outputs": [],
   "source": [
    "df['track_lower'] = df['track'].str.lower()\n",
    "#remove words within brackets and paranethes in song titles \n",
    "df['track_lower'] = [re.sub(\"\\[.*?\\]\",\"\",title) for title in df['track_lower']]\n",
    "df['track_lower'] = [re.sub(\"\\(.*?\\)\",\"\",title) for title in df['track_lower']]\n",
    "\n",
    "df['track_lower'] = [str(title).replace('- single version','') for title in df['track_lower']]\n",
    "df['track_lower'] = [str(title).replace('- single edit','') for title in df['track_lower']]\n",
    "df['track_lower'] = [str(title).replace('- remix','') for title in df['track_lower']]\n",
    "df['track_lower'] = [str(title).replace('- remix','') for title in df['track_lower']]\n",
    "\n",
    "df['lyrics_lower'] = df['cleaned_lyrics'].astype(str)\n",
    "df['lyrics_lower'] = df['lyrics_lower'].str.lower()\n",
    "\n",
    "df['lyrics_contain_title'] = [df.iloc[index]['track_lower'] in df.iloc[index]['lyrics_lower'] for index in df.index]"
   ]
  },
  {
   "cell_type": "code",
   "execution_count": 11,
   "id": "fd2f712a",
   "metadata": {},
   "outputs": [
    {
     "data": {
      "text/plain": [
       "True     0.747809\n",
       "False    0.252191\n",
       "Name: lyrics_contain_title, dtype: float64"
      ]
     },
     "execution_count": 11,
     "metadata": {},
     "output_type": "execute_result"
    }
   ],
   "source": [
    "df.lyrics_contain_title.value_counts(normalize=True)"
   ]
  },
  {
   "cell_type": "markdown",
   "id": "4f0ce2c6",
   "metadata": {},
   "source": [
    "## Removing Bad Records\n",
    "Some lyric data contains track lists or miscellaneous content instead of lyrics. "
   ]
  },
  {
   "cell_type": "markdown",
   "id": "c6890a41",
   "metadata": {},
   "source": [
    "Example of bad records:"
   ]
  },
  {
   "cell_type": "code",
   "execution_count": 23,
   "id": "8b226865",
   "metadata": {},
   "outputs": [
    {
     "data": {
      "text/plain": [
       "\"1. ⬆ Nathaniel Rateliff & The Night Sweats - S.O.B\\n2. ⬇ Magic City Hippies - Fanfare\\n3. ★ Hailee Steinfeld - Love Myself\\n4. ⬇ Morningsiders - Empress\\n5. ★ Matthew Koma - So Fuckin' Romantic\\n6. ★ EL VY - Return to the Moon (Political Song for Didi Bloome to Sing (With Crescendo))\\n7. ⬆ Keith James - Not My Day\\n8. ★ Johnny Stimson - So. Good\\n9. ⬇ Raf Riley - Summer ft. Etta Bond, Avelino and Dun D\\n10. ⬆ Tiggs Da Author - Georgia\\n11. ★ Cash Cash - Devil ft. Busta Rhymes, B.o.B and Neon Hitch\\n12. ⬇ SG Lewis - Warm\\n13. ⬇ Alexander Cardinale - Made for You\\n14. ⬇ CVIRO & GXNXVS - Sober\\n15. ⬇ EDEN - End Credits ft. Leah Kelly\\n16. ⬆ Tory Lanez - Say It\\n17. ⬆ Keith Ape - IT G MA REMIX ft. A$AP Ferg, Dumbfoundead, Father and Waka Flocka Flame\\n18. ★ Mating Ritual - I Wear Glasses\\n19. ⬆ Madcon - Don't Worry ft. Ray Dalton\\n20. ⬇ Sports - You Are the Right One\\n21. ⬆ Ritual - Josephine ft. Lisa Hannigan\\n22. ⬇ Lil Dicky - Professional Rapper ft. Snoop Dogg\\n23. ⬇ Michael Blume - Manufactured Love\\n24. ★ Duke Dumont - Ocean Drive\\n25. ⬇ Grapell - Arrow\\n26. ★ Mac Miller - 100 Grandkids\\n27. ⬇ Bee's Knees - Old School ft. Monogem\\n28. ★ Christopher - Tulips\\n29. ⬇ Jocelyn Alice - Jackpot\\n30. ⬇ Roy Woods - Drama ft. Drake\\n31. ⬇ Disclosure - Omen ft. Sam Smith\\n32. ⬇ Geeeman - Wanna Go Bang\\n33. ⬇ East of Avenue - Paper Planes\\n34. ⬆ Drake - Hotling Bling\\n35. ★ Oh Wonder - Drive\\n36. ⬆ Spada - Cool Enough ft. Elen Levon\\n37. ⬇ R. City - Locked Away ft. Adam Levine\\n38. ★ City and Colour - Wasted Love\\n39. ⬆ Maren Morris - My Church\\n40. ⬇ Manor - Can You Hear Me Talking at You\\n41. ⬇ Beast Coast - Youth\\n42. ⬇ Passport to Stockholm - All at Once\\n43. ⬇ Kyle Edwards - We Are Young (Jersey Club) ft. DJ Smallz 732\\n44. ★ Austin Basham - All Is Well\\n45. ★ Lil Dicky - Molly ft. Brendon Urie\\n46. ★ Los 5 - Mañana\\n47. ⬇ Karen Harding - Say Something (Zac Samuel Remix)\\n48. ⬇ Oh, Hush! - Happy Place ft. Hanna Ashbrook\\n49. ⬇ Lil Dicky - Personality ft. T-Pain\\n50. ★ Kaptan - Everything3Embed\""
      ]
     },
     "execution_count": 23,
     "metadata": {},
     "output_type": "execute_result"
    }
   ],
   "source": [
    "df[df.id == '5QifrqmnjHzdOuBAheeeNU']['lyrics'].item()"
   ]
  },
  {
   "cell_type": "code",
   "execution_count": 26,
   "id": "5b33e231",
   "metadata": {},
   "outputs": [
    {
     "data": {
      "text/plain": [
       "\"1. Chris Brown- Look At Me Now (feat. Lil Wayne & Busta Rhymes)\\n2. The Pussycat Dolls & Busta Rhymes- Don't Cha\\n3. Busta Rhymes- Break Ya Neck\\n4. Busta Rhymes & Mariah Carey- I Know What You Want (feat. Flipmode Squad)\\n5. Busta Rhymes- Touch It\\n6. Rob Bailey & The Hustle Standard- Beast (feat. Busta Rhymes, KXNG Crooked & Tech N9ne) [Southpaw Remix]\\n7. Busta Rhymes- Look Over Your Shoulder (feat. Kendrick Lamar)\\n8. Busta Rhymes- Put Your Hands Where My Eyes Could See\\n9. M.O.P.- Ante Up (feat. Busta Rhymes, Teflon & Remi Martin) [Remix]\\n10. Busta Rhymes- Gimme Some More\\n11. Diddy- Victory (feat. The Notorious B.I.G. & Busta Rhymes)\\n12. Busta Rhymes- Woo Hah!! Got You All in Check\\n13. Busta Rhymes- Pass The Courvoisier Part II (feat. Diddy & Pharrell Williams) [Remix]\\n14. Busta Rhymes & Busta Rhymes for Flipmode Entertainment- Turn It Up / Fire It Up (Remix)\\n15. A$AP Ferg- East Coast (feat. Busta Rhymes, A$AP Rocky, Dave East, French Montana, Rick Ross & Snoop Dogg) [Remix]\\n16. Busta Rhy\""
      ]
     },
     "execution_count": 26,
     "metadata": {},
     "output_type": "execute_result"
    }
   ],
   "source": [
    "df[df.id == '0FYUTxJZvvOVLopuhusqYC']['lyrics'].item()[0:1000]"
   ]
  },
  {
   "cell_type": "markdown",
   "id": "87e55719",
   "metadata": {},
   "source": [
    "Get a list of all records suspected to be faulty based on numerical values."
   ]
  },
  {
   "cell_type": "code",
   "execution_count": 27,
   "id": "841f6e33",
   "metadata": {},
   "outputs": [],
   "source": [
    "excl = df[(df['cleaned_lyrics'].str.contains('12.')) & (df['verse_count']==0)]\n",
    "excl_ids = [i for i in excl['id']]"
   ]
  },
  {
   "cell_type": "markdown",
   "id": "e9c0d378",
   "metadata": {},
   "source": [
    "Exclude these ids from lyric data and audio feature data. Make sure dataframes have the same records in each dataset."
   ]
  },
  {
   "cell_type": "code",
   "execution_count": 36,
   "id": "9476e52b",
   "metadata": {},
   "outputs": [
    {
     "data": {
      "text/plain": [
       "(3425, 26)"
      ]
     },
     "execution_count": 36,
     "metadata": {},
     "output_type": "execute_result"
    }
   ],
   "source": [
    "df_lyrics = df[df['id'].isin(excl_ids)==False]\n",
    "df_lyrics.shape"
   ]
  },
  {
   "cell_type": "code",
   "execution_count": 32,
   "id": "01b05737",
   "metadata": {},
   "outputs": [
    {
     "data": {
      "text/plain": [
       "(3425, 26)"
      ]
     },
     "execution_count": 32,
     "metadata": {},
     "output_type": "execute_result"
    }
   ],
   "source": [
    "#subste dataset for audio features\n",
    "song_ids = [i for i in df_lyrics['id']]\n",
    "df_audio = audio[audio['id'].isin(song_ids)]\n",
    "df_audio.shape"
   ]
  },
  {
   "cell_type": "code",
   "execution_count": 37,
   "id": "10df1f04",
   "metadata": {},
   "outputs": [],
   "source": [
    "df_lyrics.to_csv('../data/data_lyrics.csv', index=False)\n",
    "df_audio.to_csv('../data/data_audio.csv',index=False)"
   ]
  }
 ],
 "metadata": {
  "kernelspec": {
   "display_name": "Python 3 (ipykernel)",
   "language": "python",
   "name": "python3"
  },
  "language_info": {
   "codemirror_mode": {
    "name": "ipython",
    "version": 3
   },
   "file_extension": ".py",
   "mimetype": "text/x-python",
   "name": "python",
   "nbconvert_exporter": "python",
   "pygments_lexer": "ipython3",
   "version": "3.8.12"
  }
 },
 "nbformat": 4,
 "nbformat_minor": 5
}
