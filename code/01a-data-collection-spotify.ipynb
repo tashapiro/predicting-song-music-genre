{
 "cells": [
  {
   "cell_type": "markdown",
   "id": "ed456443",
   "metadata": {},
   "source": [
    "# Part 1A: Data Collection Spotify (Audio Features)"
   ]
  },
  {
   "cell_type": "code",
   "execution_count": 1,
   "id": "055a7119",
   "metadata": {},
   "outputs": [],
   "source": [
    "import spotipy\n",
    "from spotipy.oauth2 import SpotifyClientCredentials\n",
    "import pandas as pd\n",
    "import requests\n",
    "import shutil # to save it locally"
   ]
  },
  {
   "cell_type": "markdown",
   "id": "98aacb7c",
   "metadata": {},
   "source": [
    "### Set up Spotify API\n",
    "To scrape data, we will use a Python API wrapper for Spotify, Spotipy. Personal Client ID and Secret are used to authorize the API. Additionally, we will create a function to facilitate data scraping for playlists."
   ]
  },
  {
   "cell_type": "code",
   "execution_count": 6,
   "id": "26eacfa6",
   "metadata": {},
   "outputs": [],
   "source": [
    "sp = spotipy.Spotify(auth_manager=SpotifyClientCredentials(client_id= client_id,\n",
    "                                                           client_secret= client_secret),\n",
    "                    requests_timeout=30)"
   ]
  },
  {
   "cell_type": "code",
   "execution_count": 73,
   "id": "2eba3155",
   "metadata": {},
   "outputs": [],
   "source": [
    "def get_playlist_id(playlist_name):\n",
    "    results = sp.search(q=playlist_name, type='playlist')\n",
    "    ids = [playlist.get('id') for playlist in results.get('playlists').get('items')]\n",
    "    return ids[0]\n",
    "\n",
    "\n",
    "def get_playlist_tracks(playlist_id, n_tracks):\n",
    "    data = pd.DataFrame()\n",
    "    #spotify API sets a default limit of 100 tracks, to get all we need to invoke offset\n",
    "    for i in range(0,n_tracks,100):\n",
    "        results = sp.playlist_tracks(playlist_id,limit=100, offset=i)\n",
    "        #shape json into dataframe\n",
    "        track_ids = [track.get('track').get('id') for track in results.get('items')]\n",
    "        df = pd.DataFrame()\n",
    "        df['id'] = track_ids\n",
    "        df['track'] = [track.get('track').get('name') for track in results.get('items')]\n",
    "        df['artist_id'] = [track.get('track').get('artists')[0].get('id') for track in results.get('items')]\n",
    "        df['artist'] = [track.get('track').get('artists')[0].get('name') for track in results.get('items')]\n",
    "        df['album_id'] = [track.get('track').get('album').get('id') for track in results.get('items')]\n",
    "        df['album'] = [track.get('track').get('album').get('name') for track in results.get('items')]\n",
    "        df['release_date'] = [track.get('track').get('album').get('release_date') for track in results.get('items')]\n",
    "        df['link'] = [track.get('track').get('href') for track in results.get('items')]\n",
    "        #get audio features, merge with df\n",
    "        track_features = sp.audio_features(track_ids)\n",
    "        df_features = pd.DataFrame.from_dict(track_features)\n",
    "        df = df.merge(df_features, on='id', how='left')\n",
    "        #merge with data\n",
    "        data = pd.concat([data,df])\n",
    "    return data"
   ]
  },
  {
   "cell_type": "markdown",
   "id": "ca3464bc",
   "metadata": {},
   "source": [
    "### Identify Playlists for Genres\n",
    "Scrape data for playlists created by Every Noise at Once. Genres targeted include Dance Pop, Hip Hop, Rock, and Country. Spotify API requires a Playlist ID to collect tracks. Retrive the ID from the Playlist name before collecting the tracks."
   ]
  },
  {
   "cell_type": "code",
   "execution_count": 60,
   "id": "05717863",
   "metadata": {},
   "outputs": [],
   "source": [
    "playlist_count = {\"The Sound of Dance Pop\": 1133, \n",
    "             \"The Sound of Hip Hop\": 969, \n",
    "             \"The Sound of Rock\": 1173, \n",
    "             \"The Sound of Country\": 609}\n",
    "\n",
    "playlists = [k for k in playlist_count]"
   ]
  },
  {
   "cell_type": "code",
   "execution_count": 48,
   "id": "6c6aaf86",
   "metadata": {},
   "outputs": [
    {
     "data": {
      "text/plain": [
       "{'The Sound of Dance Pop': '2ZIRxkFuqNPMnlY7vL54uK',\n",
       " 'The Sound of Hip Hop': '6MXkE0uYF4XwU4VTtyrpfP',\n",
       " 'The Sound of Rock': '7dowgSWOmvdpwNkGFMUs6e',\n",
       " 'The Sound of Country': '4mijVkpSXJziPiOrK7YX4M'}"
      ]
     },
     "execution_count": 48,
     "metadata": {},
     "output_type": "execute_result"
    }
   ],
   "source": [
    "playlist_ids = {}\n",
    "for playlist in playlists:\n",
    "    playlist_ids[playlist] = get_playlist_id(playlist)\n",
    "\n",
    "playlist_ids"
   ]
  },
  {
   "cell_type": "code",
   "execution_count": 61,
   "id": "c8de303f",
   "metadata": {},
   "outputs": [],
   "source": [
    "hip_hop = get_playlist_tracks('6MXkE0uYF4XwU4VTtyrpfP',969)"
   ]
  },
  {
   "cell_type": "code",
   "execution_count": 63,
   "id": "c8d405a0",
   "metadata": {},
   "outputs": [],
   "source": [
    "dance_pop = get_playlist_tracks('2ZIRxkFuqNPMnlY7vL54uK',1133)"
   ]
  },
  {
   "cell_type": "code",
   "execution_count": 65,
   "id": "b3ab4c8b",
   "metadata": {},
   "outputs": [],
   "source": [
    "rock = get_playlist_tracks('7dowgSWOmvdpwNkGFMUs6e',1173)"
   ]
  },
  {
   "cell_type": "code",
   "execution_count": 66,
   "id": "68a7d43f",
   "metadata": {},
   "outputs": [],
   "source": [
    "country = get_playlist_tracks('4mijVkpSXJziPiOrK7YX4M',609)"
   ]
  },
  {
   "cell_type": "markdown",
   "id": "a0ae9916",
   "metadata": {},
   "source": [
    "### Combine Datasets for each genre\n",
    "Combine four datasets to create one dataframe. Include a column, **genre**, to identify each song genre classification."
   ]
  },
  {
   "cell_type": "code",
   "execution_count": 68,
   "id": "a9422c95",
   "metadata": {},
   "outputs": [],
   "source": [
    "country['genre'] = 'country'\n",
    "hip_hop['genre'] = 'hip_hop'\n",
    "rock['genre'] = 'rock'\n",
    "dance_pop['genre'] = 'dance_pop'\n",
    "\n",
    "df_songs = pd.concat([country, hip_hop, rock,dance_pop])"
   ]
  },
  {
   "cell_type": "code",
   "execution_count": 69,
   "id": "572ed2cb",
   "metadata": {},
   "outputs": [
    {
     "data": {
      "text/plain": [
       "(3884, 26)"
      ]
     },
     "execution_count": 69,
     "metadata": {},
     "output_type": "execute_result"
    }
   ],
   "source": [
    "df_songs.shape"
   ]
  },
  {
   "cell_type": "code",
   "execution_count": 77,
   "id": "f875eed1",
   "metadata": {},
   "outputs": [],
   "source": [
    "df_songs = df_songs.drop_duplicates(subset=['id'])"
   ]
  },
  {
   "cell_type": "code",
   "execution_count": 78,
   "id": "2b35b091",
   "metadata": {},
   "outputs": [
    {
     "data": {
      "text/plain": [
       "(3831, 26)"
      ]
     },
     "execution_count": 78,
     "metadata": {},
     "output_type": "execute_result"
    }
   ],
   "source": [
    "df_songs.shape"
   ]
  },
  {
   "cell_type": "code",
   "execution_count": 79,
   "id": "8beb86ac",
   "metadata": {},
   "outputs": [
    {
     "data": {
      "text/plain": [
       "rock         1173\n",
       "dance_pop    1080\n",
       "hip_hop       969\n",
       "country       609\n",
       "Name: genre, dtype: int64"
      ]
     },
     "execution_count": 79,
     "metadata": {},
     "output_type": "execute_result"
    }
   ],
   "source": [
    "df_songs.genre.value_counts()"
   ]
  },
  {
   "cell_type": "markdown",
   "id": "172fbc4e",
   "metadata": {},
   "source": [
    "### Export Data"
   ]
  },
  {
   "cell_type": "code",
   "execution_count": 80,
   "id": "6c0d018f",
   "metadata": {},
   "outputs": [],
   "source": [
    "df_songs.to_csv('../data/audio_features.csv', index=False)"
   ]
  },
  {
   "cell_type": "markdown",
   "id": "8e337f6d",
   "metadata": {},
   "source": [
    "### Artist Data"
   ]
  },
  {
   "cell_type": "code",
   "execution_count": 110,
   "id": "fdce89cc",
   "metadata": {},
   "outputs": [],
   "source": [
    "def get_artist_details(artist_id):\n",
    "    d = {}\n",
    "    results = sp.artist(artist_id)\n",
    "    d['artist_id'] = artist_id\n",
    "    d['artist'] = results.get('name')\n",
    "    if len(results.get('images'))>0:\n",
    "        d['image'] = results.get('images')[0].get('url')\n",
    "    else:\n",
    "        d['image'] = ''\n",
    "    d['genres'] = str(results.get('genres'))\n",
    "    d['popularity'] = results.get('popularity')\n",
    "    d['link'] = results.get('href')\n",
    "    if len(results.get('followers'))>0:\n",
    "        d['followers'] = results.get('followers').get('total')\n",
    "    else:\n",
    "        d['followers'] = None\n",
    "    return d"
   ]
  },
  {
   "cell_type": "code",
   "execution_count": 116,
   "id": "196e0dbe",
   "metadata": {},
   "outputs": [],
   "source": [
    "artists = list(set([artist for artist in df_songs['artist_id']]))"
   ]
  },
  {
   "cell_type": "code",
   "execution_count": 112,
   "id": "3d6051d2",
   "metadata": {},
   "outputs": [],
   "source": [
    "artist_data = []\n",
    "for artist in artists:\n",
    "    data = get_artist_details(artist)\n",
    "    artist_data.append(data)"
   ]
  },
  {
   "cell_type": "code",
   "execution_count": 113,
   "id": "31ed4240",
   "metadata": {},
   "outputs": [],
   "source": [
    "df_artists = pd.DataFrame(artist_data)"
   ]
  },
  {
   "cell_type": "code",
   "execution_count": 115,
   "id": "1a1fccbb",
   "metadata": {},
   "outputs": [],
   "source": [
    "df_artists.to_csv('../data/artists.csv')"
   ]
  },
  {
   "cell_type": "markdown",
   "id": "19c5ef36",
   "metadata": {},
   "source": [
    "### Artist Image Downloads"
   ]
  },
  {
   "cell_type": "code",
   "execution_count": 120,
   "id": "3c393ab3",
   "metadata": {},
   "outputs": [],
   "source": [
    "#Code taken from - https://towardsdatascience.com/how-to-download-an-image-using-python-38a75cfa21c    \n",
    "def get_image(image_url, filename):\n",
    "    # Open the url image, set stream to True, this will return the stream content.\n",
    "    r = requests.get(image_url, stream = True)\n",
    "\n",
    "    # Check if the image was retrieved successfully\n",
    "    if r.status_code == 200:\n",
    "        # Set decode_content value to True, otherwise the downloaded image file's size will be zero.\n",
    "        r.raw.decode_content = True\n",
    "\n",
    "        # Open a local file with wb ( write binary ) permission.\n",
    "        with open(filename,'wb') as f:\n",
    "            shutil.copyfileobj(r.raw, f)\n",
    "       # print('Image sucessfully Downloaded: ',filename)\n",
    "    else:\n",
    "        print('Image Couldn\\'t be retreived', filename)"
   ]
  },
  {
   "cell_type": "code",
   "execution_count": 128,
   "id": "7bf8b35e",
   "metadata": {},
   "outputs": [],
   "source": [
    "df_artists.set_index('artist_id',inplace=True)"
   ]
  },
  {
   "cell_type": "code",
   "execution_count": null,
   "id": "68c581da",
   "metadata": {},
   "outputs": [],
   "source": []
  },
  {
   "cell_type": "code",
   "execution_count": 142,
   "id": "d3c07046",
   "metadata": {},
   "outputs": [],
   "source": [
    "for index in df_artists.index:\n",
    "    artist_id = index\n",
    "    link = df_artists.loc[index]['image']\n",
    "    if 'http' in link:\n",
    "        path = '../images/artists/' + artist_id + '.png'\n",
    "        get_image(link, path)"
   ]
  },
  {
   "cell_type": "code",
   "execution_count": 202,
   "id": "9db18a1c",
   "metadata": {},
   "outputs": [],
   "source": [
    "#taken from StackOverflow https://stackoverflow.com/questions/51486297/cropping-an-image-in-a-circular-way-using-python\n",
    "import numpy as np\n",
    "from PIL import Image, ImageDraw\n",
    "\n",
    "\n",
    "def crop_center(pil_img, crop_width, crop_height):\n",
    "    img_width, img_height = pil_img.size\n",
    "    return pil_img.crop(((img_width - crop_width) // 2,\n",
    "                         (img_height - crop_height) // 2,\n",
    "                         (img_width + crop_width) // 2,\n",
    "                         (img_height + crop_height) // 2))\n",
    "\n",
    "def crop_max_square(pil_img):\n",
    "    return crop_center(pil_img, min(pil_img.size), min(pil_img.size))\n",
    "\n",
    "def crop_image(image_path, new_path):\n",
    "    img=Image.open(image_path).convert(\"RGB\")\n",
    "    img = crop_max_square(img)\n",
    "    npImage=np.array(img)\n",
    "    h,w=img.size\n",
    "    alpha = Image.new('L', img.size,0)\n",
    "    draw = ImageDraw.Draw(alpha)\n",
    "    draw.pieslice([0,0,h,w],0,360,fill=255)\n",
    "    npAlpha=np.array(alpha)\n",
    "    npImage=np.dstack((npImage,npAlpha))\n",
    "    Image.fromarray(npImage).save(new_path)"
   ]
  },
  {
   "cell_type": "code",
   "execution_count": 203,
   "id": "f44524d2",
   "metadata": {},
   "outputs": [],
   "source": [
    "import os \n",
    "files = os.listdir('../images/artists')\n",
    "file_paths = ['../images/artists/' + file for file in files]\n",
    "\n",
    "for path in file_paths:\n",
    "    new_path = '../images/cropped_artists/' + path[18:]\n",
    "    crop_image(path, new_path)"
   ]
  },
  {
   "cell_type": "code",
   "execution_count": 182,
   "id": "5e78762e",
   "metadata": {},
   "outputs": [],
   "source": [
    "crop_image('../images/artists/0DchahWJGQqrqr8PMM5zQD.png','testing.png')"
   ]
  },
  {
   "cell_type": "code",
   "execution_count": 168,
   "id": "41613bda",
   "metadata": {},
   "outputs": [
    {
     "name": "stdout",
     "output_type": "stream",
     "text": [
      "1000\n"
     ]
    }
   ],
   "source": [
    "print(min(h,w))"
   ]
  },
  {
   "cell_type": "code",
   "execution_count": null,
   "id": "6f397169",
   "metadata": {},
   "outputs": [],
   "source": []
  }
 ],
 "metadata": {
  "kernelspec": {
   "display_name": "Python 3 (ipykernel)",
   "language": "python",
   "name": "python3"
  },
  "language_info": {
   "codemirror_mode": {
    "name": "ipython",
    "version": 3
   },
   "file_extension": ".py",
   "mimetype": "text/x-python",
   "name": "python",
   "nbconvert_exporter": "python",
   "pygments_lexer": "ipython3",
   "version": "3.8.12"
  }
 },
 "nbformat": 4,
 "nbformat_minor": 5
}
