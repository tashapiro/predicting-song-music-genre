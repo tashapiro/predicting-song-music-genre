{
 "cells": [
  {
   "cell_type": "markdown",
   "id": "7d9af5db",
   "metadata": {},
   "source": [
    "# Part 3A: Data Modeling with Music Features\n",
    "\n",
    "This part of the project will focus on building different classification modles using the audio feature data only. Audio feature was previously collected using the Spotify API wrapper, Spotipy, in Step 1A. These features include variables such as speechiness, acousticness, tempo, and mode. \n",
    "\n",
    "The target variable is the music **genre** for each song. Since the target includes 4 potential outputs - country, rock, dance pop, and hip hop, this project is a **mutli-classification** or **multinomial classification** problem."
   ]
  },
  {
   "cell_type": "code",
   "execution_count": 153,
   "id": "85954a15",
   "metadata": {},
   "outputs": [],
   "source": [
    "import pandas as pd\n",
    "import itertools\n",
    "\n",
    "import seaborn as sns\n",
    "import matplotlib.pyplot as plt\n",
    "\n",
    "from sklearn import preprocessing\n",
    "from sklearn.model_selection import train_test_split, GridSearchCV\n",
    "from sklearn.pipeline import Pipeline\n",
    "\n",
    "#sci-kit learn classifiers\n",
    "from sklearn.neighbors import KNeighborsClassifier\n",
    "from sklearn.tree import DecisionTreeClassifier\n",
    "from sklearn.ensemble import RandomForestClassifier\n",
    "from sklearn import svm\n",
    "\n",
    "# keras\n",
    "from keras.models import Sequential\n",
    "from keras.layers import Dense\n",
    "import keras.backend as K\n",
    "\n",
    "from sklearn.metrics import (confusion_matrix, plot_confusion_matrix, ConfusionMatrixDisplay,\n",
    "    accuracy_score, plot_roc_curve, roc_auc_score, recall_score,\n",
    "    precision_score, roc_curve, auc)\n",
    "\n",
    "from imblearn.over_sampling import RandomOverSampler\n"
   ]
  },
  {
   "cell_type": "markdown",
   "id": "e0e7da64",
   "metadata": {},
   "source": [
    "Import data (audio features from Spotify)."
   ]
  },
  {
   "cell_type": "code",
   "execution_count": 43,
   "id": "4fa67704",
   "metadata": {},
   "outputs": [],
   "source": [
    "df = pd.read_csv('../data/data_audio.csv')"
   ]
  },
  {
   "cell_type": "code",
   "execution_count": 44,
   "id": "5ed9ff49",
   "metadata": {},
   "outputs": [
    {
     "data": {
      "text/html": [
       "<div>\n",
       "<style scoped>\n",
       "    .dataframe tbody tr th:only-of-type {\n",
       "        vertical-align: middle;\n",
       "    }\n",
       "\n",
       "    .dataframe tbody tr th {\n",
       "        vertical-align: top;\n",
       "    }\n",
       "\n",
       "    .dataframe thead th {\n",
       "        text-align: right;\n",
       "    }\n",
       "</style>\n",
       "<table border=\"1\" class=\"dataframe\">\n",
       "  <thead>\n",
       "    <tr style=\"text-align: right;\">\n",
       "      <th></th>\n",
       "      <th>id</th>\n",
       "      <th>track</th>\n",
       "      <th>artist_id</th>\n",
       "      <th>artist</th>\n",
       "      <th>album_id</th>\n",
       "      <th>album</th>\n",
       "      <th>release_date</th>\n",
       "      <th>link</th>\n",
       "      <th>danceability</th>\n",
       "      <th>energy</th>\n",
       "      <th>...</th>\n",
       "      <th>liveness</th>\n",
       "      <th>valence</th>\n",
       "      <th>tempo</th>\n",
       "      <th>type</th>\n",
       "      <th>uri</th>\n",
       "      <th>track_href</th>\n",
       "      <th>analysis_url</th>\n",
       "      <th>duration_ms</th>\n",
       "      <th>time_signature</th>\n",
       "      <th>genre</th>\n",
       "    </tr>\n",
       "  </thead>\n",
       "  <tbody>\n",
       "    <tr>\n",
       "      <th>0</th>\n",
       "      <td>6qc34bnVOyqGDPni8H5W0U</td>\n",
       "      <td>Amazed</td>\n",
       "      <td>3qbnxnvUqR14MJ9g8QwZJK</td>\n",
       "      <td>Lonestar</td>\n",
       "      <td>7ykiOoPC4GLrVYSDVdDGq2</td>\n",
       "      <td>Lonely Grill</td>\n",
       "      <td>1999</td>\n",
       "      <td>https://api.spotify.com/v1/tracks/6qc34bnVOyqG...</td>\n",
       "      <td>0.561</td>\n",
       "      <td>0.543</td>\n",
       "      <td>...</td>\n",
       "      <td>0.124</td>\n",
       "      <td>0.243</td>\n",
       "      <td>139.803</td>\n",
       "      <td>audio_features</td>\n",
       "      <td>spotify:track:6qc34bnVOyqGDPni8H5W0U</td>\n",
       "      <td>https://api.spotify.com/v1/tracks/6qc34bnVOyqG...</td>\n",
       "      <td>https://api.spotify.com/v1/audio-analysis/6qc3...</td>\n",
       "      <td>240867</td>\n",
       "      <td>4</td>\n",
       "      <td>country</td>\n",
       "    </tr>\n",
       "    <tr>\n",
       "      <th>1</th>\n",
       "      <td>3EUl8M6SzxZl03NPkB8mUd</td>\n",
       "      <td>Neon Moon</td>\n",
       "      <td>0XKOBt59crntr7HQXXO8Yz</td>\n",
       "      <td>Brooks &amp; Dunn</td>\n",
       "      <td>1ZXM9jY3Bsg12KXgwftBrO</td>\n",
       "      <td>#1s ... and then some</td>\n",
       "      <td>2009-09-08</td>\n",
       "      <td>https://api.spotify.com/v1/tracks/3EUl8M6SzxZl...</td>\n",
       "      <td>0.698</td>\n",
       "      <td>0.632</td>\n",
       "      <td>...</td>\n",
       "      <td>0.118</td>\n",
       "      <td>0.458</td>\n",
       "      <td>102.408</td>\n",
       "      <td>audio_features</td>\n",
       "      <td>spotify:track:3EUl8M6SzxZl03NPkB8mUd</td>\n",
       "      <td>https://api.spotify.com/v1/tracks/3EUl8M6SzxZl...</td>\n",
       "      <td>https://api.spotify.com/v1/audio-analysis/3EUl...</td>\n",
       "      <td>263760</td>\n",
       "      <td>4</td>\n",
       "      <td>country</td>\n",
       "    </tr>\n",
       "    <tr>\n",
       "      <th>2</th>\n",
       "      <td>7lUE02KHkZM44BZgjCaWRO</td>\n",
       "      <td>Meet In the Middle</td>\n",
       "      <td>0svyIX7Xu3DVMkrOtB88i6</td>\n",
       "      <td>Diamond Rio</td>\n",
       "      <td>5zpRuHrOSBkOrop2DJvBcr</td>\n",
       "      <td>Diamond Rio</td>\n",
       "      <td>1991-07-01</td>\n",
       "      <td>https://api.spotify.com/v1/tracks/7lUE02KHkZM4...</td>\n",
       "      <td>0.746</td>\n",
       "      <td>0.443</td>\n",
       "      <td>...</td>\n",
       "      <td>0.223</td>\n",
       "      <td>0.554</td>\n",
       "      <td>91.110</td>\n",
       "      <td>audio_features</td>\n",
       "      <td>spotify:track:7lUE02KHkZM44BZgjCaWRO</td>\n",
       "      <td>https://api.spotify.com/v1/tracks/7lUE02KHkZM4...</td>\n",
       "      <td>https://api.spotify.com/v1/audio-analysis/7lUE...</td>\n",
       "      <td>198333</td>\n",
       "      <td>4</td>\n",
       "      <td>country</td>\n",
       "    </tr>\n",
       "  </tbody>\n",
       "</table>\n",
       "<p>3 rows × 26 columns</p>\n",
       "</div>"
      ],
      "text/plain": [
       "                       id               track               artist_id  \\\n",
       "0  6qc34bnVOyqGDPni8H5W0U              Amazed  3qbnxnvUqR14MJ9g8QwZJK   \n",
       "1  3EUl8M6SzxZl03NPkB8mUd           Neon Moon  0XKOBt59crntr7HQXXO8Yz   \n",
       "2  7lUE02KHkZM44BZgjCaWRO  Meet In the Middle  0svyIX7Xu3DVMkrOtB88i6   \n",
       "\n",
       "          artist                album_id                  album release_date  \\\n",
       "0       Lonestar  7ykiOoPC4GLrVYSDVdDGq2           Lonely Grill         1999   \n",
       "1  Brooks & Dunn  1ZXM9jY3Bsg12KXgwftBrO  #1s ... and then some   2009-09-08   \n",
       "2    Diamond Rio  5zpRuHrOSBkOrop2DJvBcr            Diamond Rio   1991-07-01   \n",
       "\n",
       "                                                link  danceability  energy  \\\n",
       "0  https://api.spotify.com/v1/tracks/6qc34bnVOyqG...         0.561   0.543   \n",
       "1  https://api.spotify.com/v1/tracks/3EUl8M6SzxZl...         0.698   0.632   \n",
       "2  https://api.spotify.com/v1/tracks/7lUE02KHkZM4...         0.746   0.443   \n",
       "\n",
       "   ...  liveness  valence    tempo            type  \\\n",
       "0  ...     0.124    0.243  139.803  audio_features   \n",
       "1  ...     0.118    0.458  102.408  audio_features   \n",
       "2  ...     0.223    0.554   91.110  audio_features   \n",
       "\n",
       "                                    uri  \\\n",
       "0  spotify:track:6qc34bnVOyqGDPni8H5W0U   \n",
       "1  spotify:track:3EUl8M6SzxZl03NPkB8mUd   \n",
       "2  spotify:track:7lUE02KHkZM44BZgjCaWRO   \n",
       "\n",
       "                                          track_href  \\\n",
       "0  https://api.spotify.com/v1/tracks/6qc34bnVOyqG...   \n",
       "1  https://api.spotify.com/v1/tracks/3EUl8M6SzxZl...   \n",
       "2  https://api.spotify.com/v1/tracks/7lUE02KHkZM4...   \n",
       "\n",
       "                                        analysis_url  duration_ms  \\\n",
       "0  https://api.spotify.com/v1/audio-analysis/6qc3...       240867   \n",
       "1  https://api.spotify.com/v1/audio-analysis/3EUl...       263760   \n",
       "2  https://api.spotify.com/v1/audio-analysis/7lUE...       198333   \n",
       "\n",
       "   time_signature    genre  \n",
       "0               4  country  \n",
       "1               4  country  \n",
       "2               4  country  \n",
       "\n",
       "[3 rows x 26 columns]"
      ]
     },
     "execution_count": 44,
     "metadata": {},
     "output_type": "execute_result"
    }
   ],
   "source": [
    "df.head(3)"
   ]
  },
  {
   "cell_type": "code",
   "execution_count": 45,
   "id": "b3400174",
   "metadata": {},
   "outputs": [
    {
     "data": {
      "text/plain": [
       "rock         0.299270\n",
       "dance_pop    0.286715\n",
       "hip_hop      0.245839\n",
       "country      0.168175\n",
       "Name: genre, dtype: float64"
      ]
     },
     "execution_count": 45,
     "metadata": {},
     "output_type": "execute_result"
    }
   ],
   "source": [
    "df.genre.value_counts(normalize=True)"
   ]
  },
  {
   "cell_type": "markdown",
   "id": "6a223ad4",
   "metadata": {},
   "source": [
    "What is the baseline accuracy?"
   ]
  },
  {
   "cell_type": "code",
   "execution_count": 47,
   "id": "bbd8202d",
   "metadata": {},
   "outputs": [
    {
     "data": {
      "text/plain": [
       "rock         0.299270\n",
       "dance_pop    0.286715\n",
       "hip_hop      0.245839\n",
       "country      0.168175\n",
       "Name: genre, dtype: float64"
      ]
     },
     "execution_count": 47,
     "metadata": {},
     "output_type": "execute_result"
    }
   ],
   "source": [
    "df['genre'].value_counts(normalize=True)"
   ]
  },
  {
   "cell_type": "code",
   "execution_count": 161,
   "id": "bed87ed0",
   "metadata": {},
   "outputs": [],
   "source": [
    "def get_metrics(model_name, model, X, y, over=False):\n",
    "    #create labels and empty df\n",
    "    labels = ['country','dance_pop','hip_hop','rock']\n",
    "    #set up model\n",
    "    X_train, X_test, y_train, y_test = train_test_split(X, y, test_size=0.20, random_state=42, stratify=y)\n",
    "    #if oversampling is False, fit on regular X_train, y_train splot\n",
    "    if over==False:\n",
    "        model.fit(X_train,y_train)\n",
    "        preds = model.predict(X_test)\n",
    "        train_score = model.score(X_train,y_train)\n",
    "    #if oversampling is True, use RandomOverSample to balance classes for training data\n",
    "    elif over==True:\n",
    "        oversample = RandomOverSampler(sampling_strategy='auto', random_state=42)\n",
    "        X_over, y_over = oversample.fit_resample(X_train, y_train)\n",
    "        model.fit(X_over,y_over)\n",
    "        preds = model.predict(X_test)\n",
    "        train_score = model.score(X_over, y_over)\n",
    "    #store results\n",
    "    data = confusion_matrix(y_test, preds)\n",
    "    results = {labels[i] : data[i][i]/sum(data[i]) for i in range(0, len(data))}\n",
    "    result_df = pd.DataFrame(results, index=[0])\n",
    "    result_df['model'] = model_name\n",
    "    result_df['oversampling'] = over\n",
    "    result_df['train_accuracy'] = train_score\n",
    "    result_df['accuracy'] = model.score(X_test,y_test)\n",
    "    return result_df[['model','oversampling','train_accuracy','accuracy'] + labels]"
   ]
  },
  {
   "cell_type": "code",
   "execution_count": 48,
   "id": "d585394a",
   "metadata": {},
   "outputs": [],
   "source": [
    "features = ['valence','liveness','acousticness','tempo','instrumentalness','energy','danceability','duration_ms',\n",
    "           'speechiness','loudness','mode']"
   ]
  },
  {
   "cell_type": "markdown",
   "id": "bcdeb01e",
   "metadata": {},
   "source": [
    "## KNN Multi-Classification"
   ]
  },
  {
   "cell_type": "markdown",
   "id": "eef49b83",
   "metadata": {},
   "source": [
    "For KNN, what combination of features (for X data) will yield the best scores for a KNN classifier?"
   ]
  },
  {
   "cell_type": "code",
   "execution_count": 53,
   "id": "211ffacf",
   "metadata": {},
   "outputs": [],
   "source": [
    "#best_features = knn_feature_scores.head(1)['combo'].item()\n",
    "X = df[features]\n",
    "y= df['genre']"
   ]
  },
  {
   "cell_type": "code",
   "execution_count": 102,
   "id": "eaf9afe8",
   "metadata": {},
   "outputs": [],
   "source": [
    "X_train, X_test, y_train, y_test = train_test_split(X, y, test_size=0.20, random_state = 42, stratify=y)"
   ]
  },
  {
   "cell_type": "code",
   "execution_count": 55,
   "id": "7ebca57a",
   "metadata": {},
   "outputs": [],
   "source": [
    "knn_neighbor_scores = []\n",
    "for i in range(1,15):\n",
    "    knn = KNeighborsClassifier(n_neighbors=i)\n",
    "    knn.fit(X_train,y_train)\n",
    "    result = {'neighbors': i, 'train': knn.score(X_train,y_train), 'test': knn.score(X_test,y_test)}\n",
    "    knn_neighbor_scores.append(result)\n",
    "\n",
    "knn_neighbor_scores_df = pd.DataFrame(knn_neighbor_scores)"
   ]
  },
  {
   "cell_type": "code",
   "execution_count": 56,
   "id": "709db00d",
   "metadata": {},
   "outputs": [
    {
     "data": {
      "text/plain": [
       "<AxesSubplot:xlabel='neighbors', ylabel='test'>"
      ]
     },
     "execution_count": 56,
     "metadata": {},
     "output_type": "execute_result"
    },
    {
     "data": {
      "image/png": "[encoded data removed]",
      "text/plain": [
       "<Figure size 432x288 with 1 Axes>"
      ]
     },
     "metadata": {
      "needs_background": "light"
     },
     "output_type": "display_data"
    }
   ],
   "source": [
    "sns.lineplot(data=knn_neighbor_scores_df, x=\"neighbors\", y=\"test\")"
   ]
  },
  {
   "cell_type": "code",
   "execution_count": 83,
   "id": "90b73c08",
   "metadata": {},
   "outputs": [
    {
     "data": {
      "text/plain": [
       "(0.5047445255474453, 0.34890510948905107)"
      ]
     },
     "execution_count": 83,
     "metadata": {},
     "output_type": "execute_result"
    }
   ],
   "source": [
    "knn = KNeighborsClassifier(n_neighbors=7)\n",
    "knn.fit(X_train,y_train)\n",
    "knn.score(X_train,y_train), knn.score(X_test,y_test)"
   ]
  },
  {
   "cell_type": "code",
   "execution_count": 115,
   "id": "2583ccce",
   "metadata": {},
   "outputs": [
    {
     "data": {
      "image/png": "[encoded data removed]",
      "text/plain": [
       "<Figure size 432x288 with 2 Axes>"
      ]
     },
     "metadata": {
      "needs_background": "light"
     },
     "output_type": "display_data"
    }
   ],
   "source": [
    "ConfusionMatrixDisplay.from_estimator(knn, X_test, y_test, cmap=\"Blues\", normalize='true')\n",
    "plt.title(\"KNN Classifier\");"
   ]
  },
  {
   "cell_type": "markdown",
   "id": "4163082b",
   "metadata": {},
   "source": [
    "## Decision Tree Classifier\n",
    "Create a decision tree classifier model."
   ]
  },
  {
   "cell_type": "code",
   "execution_count": 59,
   "id": "3d42eeb4",
   "metadata": {},
   "outputs": [],
   "source": [
    "X = df[features]\n",
    "y = df['genre']"
   ]
  },
  {
   "cell_type": "code",
   "execution_count": 85,
   "id": "1927c69e",
   "metadata": {},
   "outputs": [],
   "source": [
    "X_train, X_test, y_train, y_test = train_test_split(X, y, test_size=0.20, random_state = 42, stratify=y)"
   ]
  },
  {
   "cell_type": "markdown",
   "id": "08f1398b",
   "metadata": {},
   "source": [
    "Test out max depth with a loop. Which max depth parameter gives us the best accuracy score?"
   ]
  },
  {
   "cell_type": "code",
   "execution_count": 86,
   "id": "5ddcdaae",
   "metadata": {},
   "outputs": [],
   "source": [
    "dtc_depth_scores = []\n",
    "for i in range(1,21):\n",
    "    dtc = DecisionTreeClassifier(max_depth=i)\n",
    "    dtc.fit(X_train,y_train)\n",
    "    result = {'max_depth': i, 'train': dtc.score(X_train,y_train), 'test': dtc.score(X_test,y_test)}\n",
    "    dtc_depth_scores.append(result)"
   ]
  },
  {
   "cell_type": "code",
   "execution_count": 87,
   "id": "e7897498",
   "metadata": {},
   "outputs": [
    {
     "data": {
      "text/html": [
       "<div>\n",
       "<style scoped>\n",
       "    .dataframe tbody tr th:only-of-type {\n",
       "        vertical-align: middle;\n",
       "    }\n",
       "\n",
       "    .dataframe tbody tr th {\n",
       "        vertical-align: top;\n",
       "    }\n",
       "\n",
       "    .dataframe thead th {\n",
       "        text-align: right;\n",
       "    }\n",
       "</style>\n",
       "<table border=\"1\" class=\"dataframe\">\n",
       "  <thead>\n",
       "    <tr style=\"text-align: right;\">\n",
       "      <th></th>\n",
       "      <th>max_depth</th>\n",
       "      <th>train</th>\n",
       "      <th>test</th>\n",
       "    </tr>\n",
       "  </thead>\n",
       "  <tbody>\n",
       "    <tr>\n",
       "      <th>5</th>\n",
       "      <td>6</td>\n",
       "      <td>0.722263</td>\n",
       "      <td>0.671533</td>\n",
       "    </tr>\n",
       "    <tr>\n",
       "      <th>6</th>\n",
       "      <td>7</td>\n",
       "      <td>0.761679</td>\n",
       "      <td>0.662774</td>\n",
       "    </tr>\n",
       "    <tr>\n",
       "      <th>7</th>\n",
       "      <td>8</td>\n",
       "      <td>0.807299</td>\n",
       "      <td>0.658394</td>\n",
       "    </tr>\n",
       "  </tbody>\n",
       "</table>\n",
       "</div>"
      ],
      "text/plain": [
       "   max_depth     train      test\n",
       "5          6  0.722263  0.671533\n",
       "6          7  0.761679  0.662774\n",
       "7          8  0.807299  0.658394"
      ]
     },
     "execution_count": 87,
     "metadata": {},
     "output_type": "execute_result"
    }
   ],
   "source": [
    "pd.DataFrame(dtc_depth_scores).sort_values('test',ascending=False).head(3)"
   ]
  },
  {
   "cell_type": "code",
   "execution_count": 88,
   "id": "71d0024e",
   "metadata": {},
   "outputs": [
    {
     "data": {
      "text/plain": [
       "(0.7222627737226277, 0.67007299270073)"
      ]
     },
     "execution_count": 88,
     "metadata": {},
     "output_type": "execute_result"
    }
   ],
   "source": [
    "dtc = DecisionTreeClassifier(max_depth = 6)\n",
    "dtc = dtc.fit(X_train, y_train)\n",
    "\n",
    "dtc.score(X_train, y_train), dtc.score(X_test,y_test)"
   ]
  },
  {
   "cell_type": "code",
   "execution_count": 89,
   "id": "7c5051ca",
   "metadata": {},
   "outputs": [
    {
     "data": {
      "image/png": "[encoded data removed]",
      "text/plain": [
       "<Figure size 432x288 with 2 Axes>"
      ]
     },
     "metadata": {
      "needs_background": "light"
     },
     "output_type": "display_data"
    }
   ],
   "source": [
    "ConfusionMatrixDisplay.from_estimator(dtc, X_test, y_test, cmap=\"Blues\", normalize='true')\n",
    "plt.title(\"Decision Tree Classifier\");"
   ]
  },
  {
   "cell_type": "markdown",
   "id": "65b4c995",
   "metadata": {},
   "source": [
    "## Random Forest Classifier"
   ]
  },
  {
   "cell_type": "code",
   "execution_count": 168,
   "id": "0178c291",
   "metadata": {},
   "outputs": [],
   "source": [
    "X = df[features]\n",
    "y = df['genre']\n",
    "X_train, X_test, y_train, y_test = train_test_split(X, y, test_size=0.20, stratify=y, random_state = 42)"
   ]
  },
  {
   "cell_type": "code",
   "execution_count": 95,
   "id": "3d53c1cc",
   "metadata": {},
   "outputs": [],
   "source": [
    "X2 = df_cat[features+keys]\n",
    "y2 = df_cat['genre']\n",
    "X_train2, X_test2, y_train2, y_test2 = train_test_split(X2, y2, test_size=0.20, stratify=y, random_state = 42)"
   ]
  },
  {
   "cell_type": "code",
   "execution_count": 169,
   "id": "4f0efd89",
   "metadata": {},
   "outputs": [
    {
     "data": {
      "text/plain": [
       "(1.0, 0.7226277372262774)"
      ]
     },
     "execution_count": 169,
     "metadata": {},
     "output_type": "execute_result"
    }
   ],
   "source": [
    "rfc = RandomForestClassifier(random_state=42)\n",
    "rfc.fit(X_train,y_train)\n",
    "rfc.score(X_train,y_train), rfc.score(X_test,y_test)"
   ]
  },
  {
   "cell_type": "code",
   "execution_count": 170,
   "id": "3df74f21",
   "metadata": {},
   "outputs": [
    {
     "data": {
      "image/png": "[encoded data removed]",
      "text/plain": [
       "<Figure size 432x288 with 2 Axes>"
      ]
     },
     "metadata": {
      "needs_background": "light"
     },
     "output_type": "display_data"
    }
   ],
   "source": [
    "ConfusionMatrixDisplay.from_estimator(rfc, X_test, y_test, cmap=\"Blues\", normalize='true')\n",
    "plt.title(\"Random Forest Classifier\");\n",
    "plt.savefig('../plots/Audio_RFC.jpeg')"
   ]
  },
  {
   "cell_type": "code",
   "execution_count": 96,
   "id": "baf61ece",
   "metadata": {},
   "outputs": [
    {
     "data": {
      "text/plain": [
       "(1.0, 0.7328467153284671)"
      ]
     },
     "execution_count": 96,
     "metadata": {},
     "output_type": "execute_result"
    }
   ],
   "source": [
    "rfc2 = RandomForestClassifier(random_state=42)\n",
    "rfc2.fit(X_train2,y_train2)\n",
    "rfc2.score(X_train2,y_train2), rfc2.score(X_test2,y_test2)"
   ]
  },
  {
   "cell_type": "code",
   "execution_count": 98,
   "id": "3f38a6b5",
   "metadata": {},
   "outputs": [
    {
     "data": {
      "image/png": "[encoded data removed]",
      "text/plain": [
       "<Figure size 432x288 with 2 Axes>"
      ]
     },
     "metadata": {
      "needs_background": "light"
     },
     "output_type": "display_data"
    }
   ],
   "source": [
    "ConfusionMatrixDisplay.from_estimator(rfc2, X_test2, y_test2, cmap=\"Blues\", normalize='true')\n",
    "plt.title(\"Random Forest Classifier\");"
   ]
  },
  {
   "cell_type": "markdown",
   "id": "1befcfb5",
   "metadata": {},
   "source": [
    "## Random Forest with GridSearch"
   ]
  },
  {
   "cell_type": "code",
   "execution_count": 71,
   "id": "7671b467",
   "metadata": {},
   "outputs": [
    {
     "name": "stdout",
     "output_type": "stream",
     "text": [
      "0.724087591240876\n"
     ]
    },
    {
     "data": {
      "text/plain": [
       "{'bootstrap': True, 'max_depth': None, 'n_estimators': 100}"
      ]
     },
     "execution_count": 71,
     "metadata": {},
     "output_type": "execute_result"
    }
   ],
   "source": [
    "rfc_gs = GridSearchCV(rfc, param_grid={'n_estimators': [100,200,250], \n",
    "                                       'max_depth': [None,1,2,3],\n",
    "                                       'bootstrap': [True,False]\n",
    "                                       })\n",
    "rfc_gs.fit(X_train, y_train)\n",
    "print(rfc_gs.best_score_)\n",
    "rfc_gs.best_params_"
   ]
  },
  {
   "cell_type": "code",
   "execution_count": 72,
   "id": "d401ed49",
   "metadata": {},
   "outputs": [
    {
     "data": {
      "text/plain": [
       "(1.0, 0.6992700729927007)"
      ]
     },
     "execution_count": 72,
     "metadata": {},
     "output_type": "execute_result"
    }
   ],
   "source": [
    "rfc = RandomForestClassifier(n_estimators=100, random_state=42)\n",
    "rfc.fit(X_train,y_train)\n",
    "rfc.score(X_train,y_train), rfc.score(X_test,y_test)"
   ]
  },
  {
   "cell_type": "markdown",
   "id": "c57877df",
   "metadata": {},
   "source": [
    "# Classifier Models with Oversampling\n",
    "The dataset is not perfectly balanced, e.g. there are not as many country songs as there are rock or dance pop songs. To adjust, we will use an oversampling technique with **RandomOverSampler** to supplement training data and balance the target classes (genres)."
   ]
  },
  {
   "cell_type": "code",
   "execution_count": 73,
   "id": "db9a222a",
   "metadata": {},
   "outputs": [],
   "source": [
    "X_train, X_test, y_train, y_test = train_test_split(X, y, test_size=0.20, random_state = 42, stratify=y)"
   ]
  },
  {
   "cell_type": "code",
   "execution_count": 74,
   "id": "1faab3f7",
   "metadata": {},
   "outputs": [
    {
     "data": {
      "text/plain": [
       "rock         820\n",
       "dance_pop    785\n",
       "hip_hop      674\n",
       "country      461\n",
       "Name: genre, dtype: int64"
      ]
     },
     "execution_count": 74,
     "metadata": {},
     "output_type": "execute_result"
    }
   ],
   "source": [
    "y_train.value_counts()"
   ]
  },
  {
   "cell_type": "code",
   "execution_count": 75,
   "id": "1ab3d4c2",
   "metadata": {},
   "outputs": [],
   "source": [
    "from imblearn.over_sampling import RandomOverSampler"
   ]
  },
  {
   "cell_type": "markdown",
   "id": "7f9c08bf",
   "metadata": {},
   "source": [
    "Create new X_train and y_train with over sampling method. Set strategy to auto to produce perfectly balanced classees based on majority amount."
   ]
  },
  {
   "cell_type": "code",
   "execution_count": 76,
   "id": "e00f0a07",
   "metadata": {},
   "outputs": [
    {
     "data": {
      "text/plain": [
       "rock         820\n",
       "country      820\n",
       "hip_hop      820\n",
       "dance_pop    820\n",
       "Name: genre, dtype: int64"
      ]
     },
     "execution_count": 76,
     "metadata": {},
     "output_type": "execute_result"
    }
   ],
   "source": [
    "oversample = RandomOverSampler(sampling_strategy='auto', random_state=42)\n",
    "X_over, y_over = oversample.fit_resample(X_train, y_train)\n",
    "y_over.value_counts()"
   ]
  },
  {
   "cell_type": "markdown",
   "id": "c6609c49",
   "metadata": {},
   "source": [
    "## KNN with OverSampling"
   ]
  },
  {
   "cell_type": "code",
   "execution_count": 77,
   "id": "07d8c35a",
   "metadata": {},
   "outputs": [
    {
     "data": {
      "text/plain": [
       "(0.5777439024390244, 0.3284671532846715)"
      ]
     },
     "execution_count": 77,
     "metadata": {},
     "output_type": "execute_result"
    }
   ],
   "source": [
    "knn = KNeighborsClassifier()\n",
    "knn.fit(X_over,y_over)\n",
    "knn.score(X_over,y_over), knn.score(X_test,y_test)"
   ]
  },
  {
   "cell_type": "code",
   "execution_count": 78,
   "id": "4d10405a",
   "metadata": {},
   "outputs": [
    {
     "data": {
      "image/png": "[encoded data removed]",
      "text/plain": [
       "<Figure size 432x288 with 2 Axes>"
      ]
     },
     "metadata": {
      "needs_background": "light"
     },
     "output_type": "display_data"
    }
   ],
   "source": [
    "ConfusionMatrixDisplay.from_estimator(knn, X_test, y_test, cmap=\"Blues\", normalize='true')\n",
    "plt.title(\"KNN Classifier with Oversampling\");"
   ]
  },
  {
   "cell_type": "markdown",
   "id": "c5947a76",
   "metadata": {},
   "source": [
    "## Decision Tree Classifier with Oversampling"
   ]
  },
  {
   "cell_type": "code",
   "execution_count": 79,
   "id": "4f4b88bc",
   "metadata": {},
   "outputs": [
    {
     "data": {
      "text/plain": [
       "(0.7646341463414634, 0.6437956204379562)"
      ]
     },
     "execution_count": 79,
     "metadata": {},
     "output_type": "execute_result"
    }
   ],
   "source": [
    "dtc = DecisionTreeClassifier(max_depth = 7)\n",
    "dtc.fit(X_over, y_over)\n",
    "dtc.score(X_over, y_over), dtc.score(X_test,y_test)"
   ]
  },
  {
   "cell_type": "markdown",
   "id": "11c8ae48",
   "metadata": {},
   "source": [
    "## Random Forest with Oversampling"
   ]
  },
  {
   "cell_type": "code",
   "execution_count": 80,
   "id": "7c173fcc",
   "metadata": {},
   "outputs": [
    {
     "data": {
      "text/plain": [
       "(1.0, 0.7313868613138687)"
      ]
     },
     "execution_count": 80,
     "metadata": {},
     "output_type": "execute_result"
    }
   ],
   "source": [
    "rfc = RandomForestClassifier(random_state=42)\n",
    "rfc.fit(X_over,y_over)\n",
    "rfc.score(X_over,y_over), rfc.score(X_test,y_test)"
   ]
  },
  {
   "cell_type": "code",
   "execution_count": 166,
   "id": "ee1c4ba6",
   "metadata": {},
   "outputs": [
    {
     "data": {
      "image/png": "[encoded data removed]",
      "text/plain": [
       "<Figure size 432x288 with 2 Axes>"
      ]
     },
     "metadata": {
      "needs_background": "light"
     },
     "output_type": "display_data"
    }
   ],
   "source": [
    "ConfusionMatrixDisplay.from_estimator(rfc, X_test, y_test, cmap=\"Blues\", normalize='true')\n",
    "plt.title(\"Random Forest Classifier with Over Sampling\");\n",
    "plt.savefig('../plots/Audio_RFC_OS.jpeg')"
   ]
  },
  {
   "cell_type": "markdown",
   "id": "6e6532ff",
   "metadata": {},
   "source": [
    "# Results Summarized"
   ]
  },
  {
   "cell_type": "code",
   "execution_count": 164,
   "id": "bb4ea514",
   "metadata": {},
   "outputs": [
    {
     "data": {
      "text/html": [
       "<div>\n",
       "<style scoped>\n",
       "    .dataframe tbody tr th:only-of-type {\n",
       "        vertical-align: middle;\n",
       "    }\n",
       "\n",
       "    .dataframe tbody tr th {\n",
       "        vertical-align: top;\n",
       "    }\n",
       "\n",
       "    .dataframe thead th {\n",
       "        text-align: right;\n",
       "    }\n",
       "</style>\n",
       "<table border=\"1\" class=\"dataframe\">\n",
       "  <thead>\n",
       "    <tr style=\"text-align: right;\">\n",
       "      <th></th>\n",
       "      <th>model</th>\n",
       "      <th>oversampling</th>\n",
       "      <th>train_accuracy</th>\n",
       "      <th>accuracy</th>\n",
       "      <th>country</th>\n",
       "      <th>dance_pop</th>\n",
       "      <th>hip_hop</th>\n",
       "      <th>rock</th>\n",
       "    </tr>\n",
       "  </thead>\n",
       "  <tbody>\n",
       "    <tr>\n",
       "      <th>0</th>\n",
       "      <td>KNN</td>\n",
       "      <td>False</td>\n",
       "      <td>0.504745</td>\n",
       "      <td>0.348905</td>\n",
       "      <td>0.191304</td>\n",
       "      <td>0.517766</td>\n",
       "      <td>0.315476</td>\n",
       "      <td>0.302439</td>\n",
       "    </tr>\n",
       "    <tr>\n",
       "      <th>0</th>\n",
       "      <td>KNN</td>\n",
       "      <td>True</td>\n",
       "      <td>0.540549</td>\n",
       "      <td>0.313869</td>\n",
       "      <td>0.347826</td>\n",
       "      <td>0.365482</td>\n",
       "      <td>0.339286</td>\n",
       "      <td>0.224390</td>\n",
       "    </tr>\n",
       "    <tr>\n",
       "      <th>0</th>\n",
       "      <td>Decision Tree Classifier</td>\n",
       "      <td>False</td>\n",
       "      <td>0.722263</td>\n",
       "      <td>0.668613</td>\n",
       "      <td>0.626087</td>\n",
       "      <td>0.573604</td>\n",
       "      <td>0.779762</td>\n",
       "      <td>0.692683</td>\n",
       "    </tr>\n",
       "    <tr>\n",
       "      <th>0</th>\n",
       "      <td>Decision Tree Classifier</td>\n",
       "      <td>True</td>\n",
       "      <td>0.730793</td>\n",
       "      <td>0.648175</td>\n",
       "      <td>0.730435</td>\n",
       "      <td>0.527919</td>\n",
       "      <td>0.738095</td>\n",
       "      <td>0.643902</td>\n",
       "    </tr>\n",
       "    <tr>\n",
       "      <th>0</th>\n",
       "      <td>Random Forest Classifier</td>\n",
       "      <td>False</td>\n",
       "      <td>1.000000</td>\n",
       "      <td>0.722628</td>\n",
       "      <td>0.626087</td>\n",
       "      <td>0.659898</td>\n",
       "      <td>0.809524</td>\n",
       "      <td>0.765854</td>\n",
       "    </tr>\n",
       "    <tr>\n",
       "      <th>0</th>\n",
       "      <td>Random Forest Classifier</td>\n",
       "      <td>True</td>\n",
       "      <td>1.000000</td>\n",
       "      <td>0.731387</td>\n",
       "      <td>0.713043</td>\n",
       "      <td>0.654822</td>\n",
       "      <td>0.803571</td>\n",
       "      <td>0.756098</td>\n",
       "    </tr>\n",
       "  </tbody>\n",
       "</table>\n",
       "</div>"
      ],
      "text/plain": [
       "                      model  oversampling  train_accuracy  accuracy   country  \\\n",
       "0                       KNN         False        0.504745  0.348905  0.191304   \n",
       "0                       KNN          True        0.540549  0.313869  0.347826   \n",
       "0  Decision Tree Classifier         False        0.722263  0.668613  0.626087   \n",
       "0  Decision Tree Classifier          True        0.730793  0.648175  0.730435   \n",
       "0  Random Forest Classifier         False        1.000000  0.722628  0.626087   \n",
       "0  Random Forest Classifier          True        1.000000  0.731387  0.713043   \n",
       "\n",
       "   dance_pop   hip_hop      rock  \n",
       "0   0.517766  0.315476  0.302439  \n",
       "0   0.365482  0.339286  0.224390  \n",
       "0   0.573604  0.779762  0.692683  \n",
       "0   0.527919  0.738095  0.643902  \n",
       "0   0.659898  0.809524  0.765854  \n",
       "0   0.654822  0.803571  0.756098  "
      ]
     },
     "execution_count": 164,
     "metadata": {},
     "output_type": "execute_result"
    }
   ],
   "source": [
    "results = pd.concat([get_metrics('KNN', knn, X, y),\n",
    "           get_metrics('KNN', knn, X, y, True),\n",
    "           get_metrics('Decision Tree Classifier', dtc, X, y),\n",
    "           get_metrics('Decision Tree Classifier', dtc, X, y, True),\n",
    "           get_metrics('Random Forest Classifier', rfc, X, y),\n",
    "           get_metrics('Random Forest Classifier', rfc, X, y, True),\n",
    "          ])\n",
    "\n",
    "\n",
    "results"
   ]
  },
  {
   "cell_type": "code",
   "execution_count": 165,
   "id": "9d17e3c5",
   "metadata": {},
   "outputs": [],
   "source": [
    "results.to_csv('../data/model_results_audio.csv', index=False)"
   ]
  },
  {
   "cell_type": "code",
   "execution_count": null,
   "id": "c0d42d9a",
   "metadata": {},
   "outputs": [],
   "source": []
  }
 ],
 "metadata": {
  "kernelspec": {
   "display_name": "Python 3 (ipykernel)",
   "language": "python",
   "name": "python3"
  },
  "language_info": {
   "codemirror_mode": {
    "name": "ipython",
    "version": 3
   },
   "file_extension": ".py",
   "mimetype": "text/x-python",
   "name": "python",
   "nbconvert_exporter": "python",
   "pygments_lexer": "ipython3",
   "version": "3.8.12"
  }
 },
 "nbformat": 4,
 "nbformat_minor": 5
}
